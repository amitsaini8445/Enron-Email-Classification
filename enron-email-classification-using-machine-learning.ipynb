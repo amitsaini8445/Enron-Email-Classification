{
 "cells": [
  {
   "cell_type": "markdown",
   "id": "4bc2f733",
   "metadata": {
    "papermill": {
     "duration": 0.010411,
     "end_time": "2023-04-15T12:10:05.271333",
     "exception": false,
     "start_time": "2023-04-15T12:10:05.260922",
     "status": "completed"
    },
    "tags": []
   },
   "source": [
    "### Enron Email Classification \n",
    "Before goining to this notebook,please check the data cleaning and preprocessing of the dataset: https://www.kaggle.com/code/sainiamit/data-cleaning-enron-email-classification"
   ]
  },
  {
   "cell_type": "code",
   "execution_count": 1,
   "id": "aaa78adb",
   "metadata": {
    "_cell_guid": "b1076dfc-b9ad-4769-8c92-a6c4dae69d19",
    "_uuid": "8f2839f25d086af736a60e9eeb907d3b93b6e0e5",
    "execution": {
     "iopub.execute_input": "2023-04-15T12:10:05.293033Z",
     "iopub.status.busy": "2023-04-15T12:10:05.292534Z",
     "iopub.status.idle": "2023-04-15T12:10:05.322353Z",
     "shell.execute_reply": "2023-04-15T12:10:05.320921Z"
    },
    "papermill": {
     "duration": 0.043169,
     "end_time": "2023-04-15T12:10:05.324632",
     "exception": false,
     "start_time": "2023-04-15T12:10:05.281463",
     "status": "completed"
    },
    "tags": []
   },
   "outputs": [
    {
     "name": "stdout",
     "output_type": "stream",
     "text": [
      "/kaggle/input/data-cleaning-enron-email-classification/cleaned_dataset.csv\n",
      "/kaggle/input/data-cleaning-enron-email-classification/__results__.html\n",
      "/kaggle/input/data-cleaning-enron-email-classification/__notebook__.ipynb\n",
      "/kaggle/input/data-cleaning-enron-email-classification/__output__.json\n",
      "/kaggle/input/data-cleaning-enron-email-classification/custom.css\n",
      "/kaggle/input/data-cleaning-enron-email-classification/__results___files/__results___21_0.png\n",
      "/kaggle/input/data-cleaning-enron-email-classification/__results___files/__results___23_0.png\n"
     ]
    }
   ],
   "source": [
    "import os\n",
    "for dirname, _, filenames in os.walk('/kaggle/input'):\n",
    "    for filename in filenames:\n",
    "        print(os.path.join(dirname, filename))"
   ]
  },
  {
   "cell_type": "markdown",
   "id": "d269ac9a",
   "metadata": {
    "papermill": {
     "duration": 0.008784,
     "end_time": "2023-04-15T12:10:05.342633",
     "exception": false,
     "start_time": "2023-04-15T12:10:05.333849",
     "status": "completed"
    },
    "tags": []
   },
   "source": [
    "## Import All required libraries\n"
   ]
  },
  {
   "cell_type": "code",
   "execution_count": 2,
   "id": "fe6a071b",
   "metadata": {
    "execution": {
     "iopub.execute_input": "2023-04-15T12:10:05.363982Z",
     "iopub.status.busy": "2023-04-15T12:10:05.362926Z",
     "iopub.status.idle": "2023-04-15T12:10:07.159265Z",
     "shell.execute_reply": "2023-04-15T12:10:07.158121Z"
    },
    "papermill": {
     "duration": 1.810602,
     "end_time": "2023-04-15T12:10:07.162188",
     "exception": false,
     "start_time": "2023-04-15T12:10:05.351586",
     "status": "completed"
    },
    "tags": []
   },
   "outputs": [],
   "source": [
    "import pandas as pd\n",
    "import numpy as np\n",
    "import matplotlib.pyplot as plt\n",
    "import seaborn as sns\n",
    "import warnings\n",
    "warnings.filterwarnings('ignore')\n",
    "%matplotlib inline\n",
    "import re \n",
    "import string \n",
    "import time\n",
    "pd.set_option(\"display.max_rows\",50)\n",
    "from nltk.corpus import stopwords\n",
    "\n",
    "from sklearn.preprocessing import LabelEncoder\n",
    "from sklearn.feature_extraction.text import CountVectorizer\n",
    "from sklearn.feature_extraction.text import TfidfVectorizer\n",
    "from sklearn.model_selection import cross_validate\n",
    "\n",
    "# machine learning model for email classification\n",
    "from sklearn.naive_bayes import MultinomialNB,GaussianNB\n",
    "from sklearn.tree import DecisionTreeClassifier\n",
    "from sklearn.svm import LinearSVC\n",
    "from sklearn.ensemble import AdaBoostClassifier\n",
    "from sklearn.neural_network import MLPClassifier"
   ]
  },
  {
   "cell_type": "markdown",
   "id": "18fea8b0",
   "metadata": {
    "papermill": {
     "duration": 0.009876,
     "end_time": "2023-04-15T12:10:07.182649",
     "exception": false,
     "start_time": "2023-04-15T12:10:07.172773",
     "status": "completed"
    },
    "tags": []
   },
   "source": [
    "## load the dataset\n"
   ]
  },
  {
   "cell_type": "code",
   "execution_count": 3,
   "id": "7490a91b",
   "metadata": {
    "execution": {
     "iopub.execute_input": "2023-04-15T12:10:07.204260Z",
     "iopub.status.busy": "2023-04-15T12:10:07.203302Z",
     "iopub.status.idle": "2023-04-15T12:10:24.006696Z",
     "shell.execute_reply": "2023-04-15T12:10:24.005615Z"
    },
    "papermill": {
     "duration": 16.817435,
     "end_time": "2023-04-15T12:10:24.009610",
     "exception": false,
     "start_time": "2023-04-15T12:10:07.192175",
     "status": "completed"
    },
    "tags": []
   },
   "outputs": [],
   "source": [
    "\n",
    "df= pd.read_csv(\"/kaggle/input/data-cleaning-enron-email-classification/cleaned_dataset.csv\")"
   ]
  },
  {
   "cell_type": "markdown",
   "id": "228f8341",
   "metadata": {
    "papermill": {
     "duration": 0.009372,
     "end_time": "2023-04-15T12:10:24.028976",
     "exception": false,
     "start_time": "2023-04-15T12:10:24.019604",
     "status": "completed"
    },
    "tags": []
   },
   "source": [
    "## EDA"
   ]
  },
  {
   "cell_type": "code",
   "execution_count": 4,
   "id": "7c1c57de",
   "metadata": {
    "execution": {
     "iopub.execute_input": "2023-04-15T12:10:24.049123Z",
     "iopub.status.busy": "2023-04-15T12:10:24.048783Z",
     "iopub.status.idle": "2023-04-15T12:10:24.067056Z",
     "shell.execute_reply": "2023-04-15T12:10:24.066019Z"
    },
    "papermill": {
     "duration": 0.031263,
     "end_time": "2023-04-15T12:10:24.069263",
     "exception": false,
     "start_time": "2023-04-15T12:10:24.038000",
     "status": "completed"
    },
    "tags": []
   },
   "outputs": [
    {
     "data": {
      "text/html": [
       "<div>\n",
       "<style scoped>\n",
       "    .dataframe tbody tr th:only-of-type {\n",
       "        vertical-align: middle;\n",
       "    }\n",
       "\n",
       "    .dataframe tbody tr th {\n",
       "        vertical-align: top;\n",
       "    }\n",
       "\n",
       "    .dataframe thead th {\n",
       "        text-align: right;\n",
       "    }\n",
       "</style>\n",
       "<table border=\"1\" class=\"dataframe\">\n",
       "  <thead>\n",
       "    <tr style=\"text-align: right;\">\n",
       "      <th></th>\n",
       "      <th>Subject</th>\n",
       "      <th>X-Folder</th>\n",
       "      <th>body</th>\n",
       "    </tr>\n",
       "  </thead>\n",
       "  <tbody>\n",
       "    <tr>\n",
       "      <th>0</th>\n",
       "      <td>Re:</td>\n",
       "      <td>'sent mail</td>\n",
       "      <td>Traveling to have a business meeting takes the...</td>\n",
       "    </tr>\n",
       "    <tr>\n",
       "      <th>1</th>\n",
       "      <td>Re: test</td>\n",
       "      <td>'sent mail</td>\n",
       "      <td>test successful.  way to go!!!</td>\n",
       "    </tr>\n",
       "    <tr>\n",
       "      <th>2</th>\n",
       "      <td>Re: Hello</td>\n",
       "      <td>'sent mail</td>\n",
       "      <td>Let's shoot for Tuesday at 11:45.</td>\n",
       "    </tr>\n",
       "    <tr>\n",
       "      <th>3</th>\n",
       "      <td>Re: Hello</td>\n",
       "      <td>'sent mail</td>\n",
       "      <td>Greg,\\n\\n How about either next Tuesday or Thu...</td>\n",
       "    </tr>\n",
       "    <tr>\n",
       "      <th>4</th>\n",
       "      <td>Re: PRC review - phone calls</td>\n",
       "      <td>'sent mail</td>\n",
       "      <td>any morning between 10 and 11:30</td>\n",
       "    </tr>\n",
       "  </tbody>\n",
       "</table>\n",
       "</div>"
      ],
      "text/plain": [
       "                        Subject    X-Folder  \\\n",
       "0                           Re:  'sent mail   \n",
       "1                      Re: test  'sent mail   \n",
       "2                     Re: Hello  'sent mail   \n",
       "3                     Re: Hello  'sent mail   \n",
       "4  Re: PRC review - phone calls  'sent mail   \n",
       "\n",
       "                                                body  \n",
       "0  Traveling to have a business meeting takes the...  \n",
       "1                     test successful.  way to go!!!  \n",
       "2                Let's shoot for Tuesday at 11:45.    \n",
       "3  Greg,\\n\\n How about either next Tuesday or Thu...  \n",
       "4                   any morning between 10 and 11:30  "
      ]
     },
     "execution_count": 4,
     "metadata": {},
     "output_type": "execute_result"
    }
   ],
   "source": [
    "df.head()"
   ]
  },
  {
   "cell_type": "code",
   "execution_count": 5,
   "id": "b988feae",
   "metadata": {
    "execution": {
     "iopub.execute_input": "2023-04-15T12:10:24.090447Z",
     "iopub.status.busy": "2023-04-15T12:10:24.090109Z",
     "iopub.status.idle": "2023-04-15T12:10:24.099167Z",
     "shell.execute_reply": "2023-04-15T12:10:24.098158Z"
    },
    "papermill": {
     "duration": 0.022369,
     "end_time": "2023-04-15T12:10:24.101645",
     "exception": false,
     "start_time": "2023-04-15T12:10:24.079276",
     "status": "completed"
    },
    "tags": []
   },
   "outputs": [
    {
     "data": {
      "text/plain": [
       "(489236, 3)"
      ]
     },
     "execution_count": 5,
     "metadata": {},
     "output_type": "execute_result"
    }
   ],
   "source": [
    "df.shape"
   ]
  },
  {
   "cell_type": "markdown",
   "id": "cdc05640",
   "metadata": {
    "papermill": {
     "duration": 0.009546,
     "end_time": "2023-04-15T12:10:24.120828",
     "exception": false,
     "start_time": "2023-04-15T12:10:24.111282",
     "status": "completed"
    },
    "tags": []
   },
   "source": [
    "### Remove folder \n",
    "remove folder that do not contain enough email because such folders would not be significant for \n",
    "training our classifier. Also, we can infer that some folders with very little emails in them were \n",
    "created but unused"
   ]
  },
  {
   "cell_type": "code",
   "execution_count": 6,
   "id": "865a0444",
   "metadata": {
    "execution": {
     "iopub.execute_input": "2023-04-15T12:10:24.141444Z",
     "iopub.status.busy": "2023-04-15T12:10:24.141075Z",
     "iopub.status.idle": "2023-04-15T12:10:24.146503Z",
     "shell.execute_reply": "2023-04-15T12:10:24.145606Z"
    },
    "papermill": {
     "duration": 0.018231,
     "end_time": "2023-04-15T12:10:24.148913",
     "exception": false,
     "start_time": "2023-04-15T12:10:24.130682",
     "status": "completed"
    },
    "tags": []
   },
   "outputs": [],
   "source": [
    "def remove_folder(emails,n):\n",
    "    email_count = dict(df['X-Folder'].value_counts())\n",
    "    small_folder = [key for key, value in email_count.items() if value<=n]\n",
    "    email=df.loc[~df['X-Folder'].isin(small_folder)]\n",
    "    return email"
   ]
  },
  {
   "cell_type": "code",
   "execution_count": 7,
   "id": "46d43d51",
   "metadata": {
    "execution": {
     "iopub.execute_input": "2023-04-15T12:10:24.168951Z",
     "iopub.status.busy": "2023-04-15T12:10:24.168666Z",
     "iopub.status.idle": "2023-04-15T12:10:24.254419Z",
     "shell.execute_reply": "2023-04-15T12:10:24.253252Z"
    },
    "papermill": {
     "duration": 0.098623,
     "end_time": "2023-04-15T12:10:24.257003",
     "exception": false,
     "start_time": "2023-04-15T12:10:24.158380",
     "status": "completed"
    },
    "tags": []
   },
   "outputs": [],
   "source": [
    "n=150\n",
    "df= remove_folder(df,n)"
   ]
  },
  {
   "cell_type": "code",
   "execution_count": 8,
   "id": "2ec05607",
   "metadata": {
    "execution": {
     "iopub.execute_input": "2023-04-15T12:10:24.277358Z",
     "iopub.status.busy": "2023-04-15T12:10:24.276960Z",
     "iopub.status.idle": "2023-04-15T12:10:24.289274Z",
     "shell.execute_reply": "2023-04-15T12:10:24.288272Z"
    },
    "papermill": {
     "duration": 0.024807,
     "end_time": "2023-04-15T12:10:24.291597",
     "exception": false,
     "start_time": "2023-04-15T12:10:24.266790",
     "status": "completed"
    },
    "tags": []
   },
   "outputs": [
    {
     "data": {
      "text/html": [
       "<div>\n",
       "<style scoped>\n",
       "    .dataframe tbody tr th:only-of-type {\n",
       "        vertical-align: middle;\n",
       "    }\n",
       "\n",
       "    .dataframe tbody tr th {\n",
       "        vertical-align: top;\n",
       "    }\n",
       "\n",
       "    .dataframe thead th {\n",
       "        text-align: right;\n",
       "    }\n",
       "</style>\n",
       "<table border=\"1\" class=\"dataframe\">\n",
       "  <thead>\n",
       "    <tr style=\"text-align: right;\">\n",
       "      <th></th>\n",
       "      <th>Subject</th>\n",
       "      <th>X-Folder</th>\n",
       "      <th>body</th>\n",
       "    </tr>\n",
       "  </thead>\n",
       "  <tbody>\n",
       "    <tr>\n",
       "      <th>0</th>\n",
       "      <td>Re:</td>\n",
       "      <td>'sent mail</td>\n",
       "      <td>Traveling to have a business meeting takes the...</td>\n",
       "    </tr>\n",
       "    <tr>\n",
       "      <th>1</th>\n",
       "      <td>Re: test</td>\n",
       "      <td>'sent mail</td>\n",
       "      <td>test successful.  way to go!!!</td>\n",
       "    </tr>\n",
       "    <tr>\n",
       "      <th>2</th>\n",
       "      <td>Re: Hello</td>\n",
       "      <td>'sent mail</td>\n",
       "      <td>Let's shoot for Tuesday at 11:45.</td>\n",
       "    </tr>\n",
       "  </tbody>\n",
       "</table>\n",
       "</div>"
      ],
      "text/plain": [
       "     Subject    X-Folder                                               body\n",
       "0        Re:  'sent mail  Traveling to have a business meeting takes the...\n",
       "1   Re: test  'sent mail                     test successful.  way to go!!!\n",
       "2  Re: Hello  'sent mail                Let's shoot for Tuesday at 11:45.  "
      ]
     },
     "execution_count": 8,
     "metadata": {},
     "output_type": "execute_result"
    }
   ],
   "source": [
    "df.head(3)"
   ]
  },
  {
   "cell_type": "code",
   "execution_count": 9,
   "id": "8bc021fd",
   "metadata": {
    "execution": {
     "iopub.execute_input": "2023-04-15T12:10:24.312096Z",
     "iopub.status.busy": "2023-04-15T12:10:24.311797Z",
     "iopub.status.idle": "2023-04-15T12:10:24.319227Z",
     "shell.execute_reply": "2023-04-15T12:10:24.318272Z"
    },
    "papermill": {
     "duration": 0.020174,
     "end_time": "2023-04-15T12:10:24.321280",
     "exception": false,
     "start_time": "2023-04-15T12:10:24.301106",
     "status": "completed"
    },
    "tags": []
   },
   "outputs": [
    {
     "data": {
      "text/plain": [
       "(460141, 3)"
      ]
     },
     "execution_count": 9,
     "metadata": {},
     "output_type": "execute_result"
    }
   ],
   "source": [
    "# check the shape after remove folder\n",
    "df.shape"
   ]
  },
  {
   "cell_type": "code",
   "execution_count": 10,
   "id": "e0ec9416",
   "metadata": {
    "execution": {
     "iopub.execute_input": "2023-04-15T12:10:24.342421Z",
     "iopub.status.busy": "2023-04-15T12:10:24.342064Z",
     "iopub.status.idle": "2023-04-15T12:10:24.378038Z",
     "shell.execute_reply": "2023-04-15T12:10:24.376701Z"
    },
    "papermill": {
     "duration": 0.049969,
     "end_time": "2023-04-15T12:10:24.380980",
     "exception": false,
     "start_time": "2023-04-15T12:10:24.331011",
     "status": "completed"
    },
    "tags": []
   },
   "outputs": [
    {
     "name": "stdout",
     "output_type": "stream",
     "text": [
      "total unique folders : 82\n"
     ]
    }
   ],
   "source": [
    "print(\"total unique folders :\",len(df['X-Folder'].unique()))"
   ]
  },
  {
   "cell_type": "code",
   "execution_count": 11,
   "id": "5b836437",
   "metadata": {
    "execution": {
     "iopub.execute_input": "2023-04-15T12:10:24.403421Z",
     "iopub.status.busy": "2023-04-15T12:10:24.402856Z",
     "iopub.status.idle": "2023-04-15T12:10:25.174597Z",
     "shell.execute_reply": "2023-04-15T12:10:25.173455Z"
    },
    "papermill": {
     "duration": 0.786061,
     "end_time": "2023-04-15T12:10:25.177298",
     "exception": false,
     "start_time": "2023-04-15T12:10:24.391237",
     "status": "completed"
    },
    "tags": []
   },
   "outputs": [],
   "source": [
    "# combine subject and body columns\n",
    "df['text'] = df['Subject'] + \" \" + df['body']"
   ]
  },
  {
   "cell_type": "code",
   "execution_count": 12,
   "id": "c0e8e34a",
   "metadata": {
    "execution": {
     "iopub.execute_input": "2023-04-15T12:10:25.200016Z",
     "iopub.status.busy": "2023-04-15T12:10:25.199663Z",
     "iopub.status.idle": "2023-04-15T12:10:25.213166Z",
     "shell.execute_reply": "2023-04-15T12:10:25.212226Z"
    },
    "papermill": {
     "duration": 0.027119,
     "end_time": "2023-04-15T12:10:25.215222",
     "exception": false,
     "start_time": "2023-04-15T12:10:25.188103",
     "status": "completed"
    },
    "tags": []
   },
   "outputs": [
    {
     "data": {
      "text/html": [
       "<div>\n",
       "<style scoped>\n",
       "    .dataframe tbody tr th:only-of-type {\n",
       "        vertical-align: middle;\n",
       "    }\n",
       "\n",
       "    .dataframe tbody tr th {\n",
       "        vertical-align: top;\n",
       "    }\n",
       "\n",
       "    .dataframe thead th {\n",
       "        text-align: right;\n",
       "    }\n",
       "</style>\n",
       "<table border=\"1\" class=\"dataframe\">\n",
       "  <thead>\n",
       "    <tr style=\"text-align: right;\">\n",
       "      <th></th>\n",
       "      <th>Subject</th>\n",
       "      <th>X-Folder</th>\n",
       "      <th>body</th>\n",
       "      <th>text</th>\n",
       "    </tr>\n",
       "  </thead>\n",
       "  <tbody>\n",
       "    <tr>\n",
       "      <th>0</th>\n",
       "      <td>Re:</td>\n",
       "      <td>'sent mail</td>\n",
       "      <td>Traveling to have a business meeting takes the...</td>\n",
       "      <td>Re: Traveling to have a business meeting takes...</td>\n",
       "    </tr>\n",
       "    <tr>\n",
       "      <th>1</th>\n",
       "      <td>Re: test</td>\n",
       "      <td>'sent mail</td>\n",
       "      <td>test successful.  way to go!!!</td>\n",
       "      <td>Re: test test successful.  way to go!!!</td>\n",
       "    </tr>\n",
       "    <tr>\n",
       "      <th>2</th>\n",
       "      <td>Re: Hello</td>\n",
       "      <td>'sent mail</td>\n",
       "      <td>Let's shoot for Tuesday at 11:45.</td>\n",
       "      <td>Re: Hello Let's shoot for Tuesday at 11:45.</td>\n",
       "    </tr>\n",
       "  </tbody>\n",
       "</table>\n",
       "</div>"
      ],
      "text/plain": [
       "     Subject    X-Folder                                               body  \\\n",
       "0        Re:  'sent mail  Traveling to have a business meeting takes the...   \n",
       "1   Re: test  'sent mail                     test successful.  way to go!!!   \n",
       "2  Re: Hello  'sent mail                Let's shoot for Tuesday at 11:45.     \n",
       "\n",
       "                                                text  \n",
       "0  Re: Traveling to have a business meeting takes...  \n",
       "1            Re: test test successful.  way to go!!!  \n",
       "2      Re: Hello Let's shoot for Tuesday at 11:45.    "
      ]
     },
     "execution_count": 12,
     "metadata": {},
     "output_type": "execute_result"
    }
   ],
   "source": [
    "df.head(3)"
   ]
  },
  {
   "cell_type": "code",
   "execution_count": 13,
   "id": "f4997691",
   "metadata": {
    "execution": {
     "iopub.execute_input": "2023-04-15T12:10:25.240014Z",
     "iopub.status.busy": "2023-04-15T12:10:25.239667Z",
     "iopub.status.idle": "2023-04-15T12:10:25.367170Z",
     "shell.execute_reply": "2023-04-15T12:10:25.366120Z"
    },
    "papermill": {
     "duration": 0.144065,
     "end_time": "2023-04-15T12:10:25.369846",
     "exception": false,
     "start_time": "2023-04-15T12:10:25.225781",
     "status": "completed"
    },
    "tags": []
   },
   "outputs": [],
   "source": [
    "# remove subject and body column from the dataset\n",
    "drop_col = ['Subject','body']\n",
    "df.drop(columns=drop_col,axis=1, inplace=True)\n"
   ]
  },
  {
   "cell_type": "code",
   "execution_count": 14,
   "id": "d0b7bfd4",
   "metadata": {
    "execution": {
     "iopub.execute_input": "2023-04-15T12:10:25.390905Z",
     "iopub.status.busy": "2023-04-15T12:10:25.390567Z",
     "iopub.status.idle": "2023-04-15T12:10:25.402164Z",
     "shell.execute_reply": "2023-04-15T12:10:25.401258Z"
    },
    "papermill": {
     "duration": 0.024588,
     "end_time": "2023-04-15T12:10:25.404338",
     "exception": false,
     "start_time": "2023-04-15T12:10:25.379750",
     "status": "completed"
    },
    "tags": []
   },
   "outputs": [
    {
     "data": {
      "text/html": [
       "<div>\n",
       "<style scoped>\n",
       "    .dataframe tbody tr th:only-of-type {\n",
       "        vertical-align: middle;\n",
       "    }\n",
       "\n",
       "    .dataframe tbody tr th {\n",
       "        vertical-align: top;\n",
       "    }\n",
       "\n",
       "    .dataframe thead th {\n",
       "        text-align: right;\n",
       "    }\n",
       "</style>\n",
       "<table border=\"1\" class=\"dataframe\">\n",
       "  <thead>\n",
       "    <tr style=\"text-align: right;\">\n",
       "      <th></th>\n",
       "      <th>X-Folder</th>\n",
       "      <th>text</th>\n",
       "    </tr>\n",
       "  </thead>\n",
       "  <tbody>\n",
       "    <tr>\n",
       "      <th>0</th>\n",
       "      <td>'sent mail</td>\n",
       "      <td>Re: Traveling to have a business meeting takes...</td>\n",
       "    </tr>\n",
       "    <tr>\n",
       "      <th>1</th>\n",
       "      <td>'sent mail</td>\n",
       "      <td>Re: test test successful.  way to go!!!</td>\n",
       "    </tr>\n",
       "    <tr>\n",
       "      <th>2</th>\n",
       "      <td>'sent mail</td>\n",
       "      <td>Re: Hello Let's shoot for Tuesday at 11:45.</td>\n",
       "    </tr>\n",
       "  </tbody>\n",
       "</table>\n",
       "</div>"
      ],
      "text/plain": [
       "     X-Folder                                               text\n",
       "0  'sent mail  Re: Traveling to have a business meeting takes...\n",
       "1  'sent mail            Re: test test successful.  way to go!!!\n",
       "2  'sent mail      Re: Hello Let's shoot for Tuesday at 11:45.  "
      ]
     },
     "execution_count": 14,
     "metadata": {},
     "output_type": "execute_result"
    }
   ],
   "source": [
    "df.head(3)"
   ]
  },
  {
   "cell_type": "markdown",
   "id": "b5b5429a",
   "metadata": {
    "papermill": {
     "duration": 0.009844,
     "end_time": "2023-04-15T12:10:25.423947",
     "exception": false,
     "start_time": "2023-04-15T12:10:25.414103",
     "status": "completed"
    },
    "tags": []
   },
   "source": [
    "### cleaning process steps:\n",
    "    convert text into lowercase\n",
    "    remove all new line or extra line\n",
    "    remove tabs,punctuation and commas\n",
    "    remove extra white spaces\n",
    "    remove stopwords"
   ]
  },
  {
   "cell_type": "code",
   "execution_count": 15,
   "id": "3ff59ad3",
   "metadata": {
    "execution": {
     "iopub.execute_input": "2023-04-15T12:10:25.446145Z",
     "iopub.status.busy": "2023-04-15T12:10:25.445158Z",
     "iopub.status.idle": "2023-04-15T12:10:25.456793Z",
     "shell.execute_reply": "2023-04-15T12:10:25.455453Z"
    },
    "papermill": {
     "duration": 0.025504,
     "end_time": "2023-04-15T12:10:25.459347",
     "exception": false,
     "start_time": "2023-04-15T12:10:25.433843",
     "status": "completed"
    },
    "tags": []
   },
   "outputs": [
    {
     "name": "stdout",
     "output_type": "stream",
     "text": [
      "['i', 'me', 'my', 'myself', 'we', 'our', 'ours', 'ourselves', 'you', \"you're\", \"you've\", \"you'll\", \"you'd\", 'your', 'yours', 'yourself', 'yourselves', 'he', 'him', 'his', 'himself', 'she', \"she's\", 'her', 'hers', 'herself', 'it', \"it's\", 'its', 'itself', 'they', 'them', 'their', 'theirs', 'themselves', 'what', 'which', 'who', 'whom', 'this', 'that', \"that'll\", 'these', 'those', 'am', 'is', 'are', 'was', 'were', 'be', 'been', 'being', 'have', 'has', 'had', 'having', 'do', 'does', 'did', 'doing', 'a', 'an', 'the', 'and', 'but', 'if', 'or', 'because', 'as', 'until', 'while', 'of', 'at', 'by', 'for', 'with', 'about', 'against', 'between', 'into', 'through', 'during', 'before', 'after', 'above', 'below', 'to', 'from', 'up', 'down', 'in', 'out', 'on', 'off', 'over', 'under', 'again', 'further', 'then', 'once', 'here', 'there', 'when', 'where', 'why', 'how', 'all', 'any', 'both', 'each', 'few', 'more', 'most', 'other', 'some', 'such', 'no', 'nor', 'not', 'only', 'own', 'same', 'so', 'than', 'too', 'very', 's', 't', 'can', 'will', 'just', 'don', \"don't\", 'should', \"should've\", 'now', 'd', 'll', 'm', 'o', 're', 've', 'y', 'ain', 'aren', \"aren't\", 'couldn', \"couldn't\", 'didn', \"didn't\", 'doesn', \"doesn't\", 'hadn', \"hadn't\", 'hasn', \"hasn't\", 'haven', \"haven't\", 'isn', \"isn't\", 'ma', 'mightn', \"mightn't\", 'mustn', \"mustn't\", 'needn', \"needn't\", 'shan', \"shan't\", 'shouldn', \"shouldn't\", 'wasn', \"wasn't\", 'weren', \"weren't\", 'won', \"won't\", 'wouldn', \"wouldn't\"]\n"
     ]
    }
   ],
   "source": [
    "stopword = stopwords.words(\"english\")\n",
    "print(stopword)"
   ]
  },
  {
   "cell_type": "code",
   "execution_count": 16,
   "id": "3f6cd688",
   "metadata": {
    "execution": {
     "iopub.execute_input": "2023-04-15T12:10:25.482281Z",
     "iopub.status.busy": "2023-04-15T12:10:25.481234Z",
     "iopub.status.idle": "2023-04-15T12:16:50.454046Z",
     "shell.execute_reply": "2023-04-15T12:16:50.452801Z"
    },
    "papermill": {
     "duration": 384.987339,
     "end_time": "2023-04-15T12:16:50.457069",
     "exception": false,
     "start_time": "2023-04-15T12:10:25.469730",
     "status": "completed"
    },
    "tags": []
   },
   "outputs": [],
   "source": [
    "def preprocess_text(text):\n",
    "    # lowercase words\n",
    "    text = text.lower()\n",
    "    \n",
    "    # remove new line \n",
    "    text = re.sub(r\"\\n+\",\" \",text)\n",
    "    \n",
    "    #remove tabs,punctuation and commas\n",
    "    text= re.sub(\"[\"+string.punctuation+\"]\", \" \", text)\n",
    "    \n",
    "    # remove extra white space\n",
    "    text = re.sub(\"\\s+\",\" \",text)\n",
    "    \n",
    "    # remove stopwords from text\n",
    "    text =\" \".join([word for word in text.split() if word not in stopword])\n",
    "    return text\n",
    "\n",
    "start = time.time()\n",
    "df['text'] = df['text'].apply(lambda x : preprocess_text(x))"
   ]
  },
  {
   "cell_type": "code",
   "execution_count": 17,
   "id": "bbedad9c",
   "metadata": {
    "execution": {
     "iopub.execute_input": "2023-04-15T12:16:50.482890Z",
     "iopub.status.busy": "2023-04-15T12:16:50.480687Z",
     "iopub.status.idle": "2023-04-15T12:16:50.534150Z",
     "shell.execute_reply": "2023-04-15T12:16:50.532506Z"
    },
    "papermill": {
     "duration": 0.068001,
     "end_time": "2023-04-15T12:16:50.536478",
     "exception": false,
     "start_time": "2023-04-15T12:16:50.468477",
     "status": "completed"
    },
    "tags": []
   },
   "outputs": [
    {
     "name": "stdout",
     "output_type": "stream",
     "text": [
      "total time for exeuation  : 0.04509472846984863\n"
     ]
    }
   ],
   "source": [
    "start= time.time()\n",
    "folder_dict = dict(df['X-Folder'].value_counts().sort_values()[50:70])\n",
    "data = df[df['X-Folder'].isin(folder_dict.keys())]\n",
    "end= time.time()\n",
    "print(\"total time for exeuation  :\",(end-start))\n"
   ]
  },
  {
   "cell_type": "code",
   "execution_count": 18,
   "id": "049ab80f",
   "metadata": {
    "execution": {
     "iopub.execute_input": "2023-04-15T12:16:50.560492Z",
     "iopub.status.busy": "2023-04-15T12:16:50.559356Z",
     "iopub.status.idle": "2023-04-15T12:16:50.568388Z",
     "shell.execute_reply": "2023-04-15T12:16:50.567268Z"
    },
    "papermill": {
     "duration": 0.023579,
     "end_time": "2023-04-15T12:16:50.570967",
     "exception": false,
     "start_time": "2023-04-15T12:16:50.547388",
     "status": "completed"
    },
    "tags": []
   },
   "outputs": [
    {
     "data": {
      "text/plain": [
       "13586"
      ]
     },
     "execution_count": 18,
     "metadata": {},
     "output_type": "execute_result"
    }
   ],
   "source": [
    "# check the shape of the dataset\n",
    "data.shape[0]"
   ]
  },
  {
   "cell_type": "code",
   "execution_count": 19,
   "id": "0bd09740",
   "metadata": {
    "execution": {
     "iopub.execute_input": "2023-04-15T12:16:50.593808Z",
     "iopub.status.busy": "2023-04-15T12:16:50.593450Z",
     "iopub.status.idle": "2023-04-15T12:16:50.803597Z",
     "shell.execute_reply": "2023-04-15T12:16:50.802386Z"
    },
    "papermill": {
     "duration": 0.224675,
     "end_time": "2023-04-15T12:16:50.806353",
     "exception": false,
     "start_time": "2023-04-15T12:16:50.581678",
     "status": "completed"
    },
    "tags": []
   },
   "outputs": [],
   "source": [
    "# save it into folder\n",
    "data.to_csv(\"preprocessed.csv\",index=False)"
   ]
  },
  {
   "cell_type": "code",
   "execution_count": 20,
   "id": "dc49f01d",
   "metadata": {
    "execution": {
     "iopub.execute_input": "2023-04-15T12:16:50.830907Z",
     "iopub.status.busy": "2023-04-15T12:16:50.830535Z",
     "iopub.status.idle": "2023-04-15T12:16:50.970007Z",
     "shell.execute_reply": "2023-04-15T12:16:50.968721Z"
    },
    "papermill": {
     "duration": 0.155183,
     "end_time": "2023-04-15T12:16:50.972969",
     "exception": false,
     "start_time": "2023-04-15T12:16:50.817786",
     "status": "completed"
    },
    "tags": []
   },
   "outputs": [
    {
     "data": {
      "text/html": [
       "<div>\n",
       "<style scoped>\n",
       "    .dataframe tbody tr th:only-of-type {\n",
       "        vertical-align: middle;\n",
       "    }\n",
       "\n",
       "    .dataframe tbody tr th {\n",
       "        vertical-align: top;\n",
       "    }\n",
       "\n",
       "    .dataframe thead th {\n",
       "        text-align: right;\n",
       "    }\n",
       "</style>\n",
       "<table border=\"1\" class=\"dataframe\">\n",
       "  <thead>\n",
       "    <tr style=\"text-align: right;\">\n",
       "      <th></th>\n",
       "      <th>X-Folder</th>\n",
       "      <th>text</th>\n",
       "    </tr>\n",
       "  </thead>\n",
       "  <tbody>\n",
       "    <tr>\n",
       "      <th>0</th>\n",
       "      <td>california</td>\n",
       "      <td>caiso notice summer 2001 generation rfb market...</td>\n",
       "    </tr>\n",
       "    <tr>\n",
       "      <th>1</th>\n",
       "      <td>california</td>\n",
       "      <td>ca iso cal px information related 2000 market ...</td>\n",
       "    </tr>\n",
       "    <tr>\n",
       "      <th>2</th>\n",
       "      <td>california</td>\n",
       "      <td>caiso notification update inter sc trades adju...</td>\n",
       "    </tr>\n",
       "    <tr>\n",
       "      <th>3</th>\n",
       "      <td>california</td>\n",
       "      <td>update mif meeting presentations iso website u...</td>\n",
       "    </tr>\n",
       "    <tr>\n",
       "      <th>4</th>\n",
       "      <td>california</td>\n",
       "      <td>mif presentations presentations market issues ...</td>\n",
       "    </tr>\n",
       "  </tbody>\n",
       "</table>\n",
       "</div>"
      ],
      "text/plain": [
       "     X-Folder                                               text\n",
       "0  california  caiso notice summer 2001 generation rfb market...\n",
       "1  california  ca iso cal px information related 2000 market ...\n",
       "2  california  caiso notification update inter sc trades adju...\n",
       "3  california  update mif meeting presentations iso website u...\n",
       "4  california  mif presentations presentations market issues ..."
      ]
     },
     "execution_count": 20,
     "metadata": {},
     "output_type": "execute_result"
    }
   ],
   "source": [
    "# read the preprocessed data\n",
    "data = pd.read_csv(\"preprocessed.csv\")\n",
    "data.head()"
   ]
  },
  {
   "cell_type": "code",
   "execution_count": 21,
   "id": "27819e69",
   "metadata": {
    "execution": {
     "iopub.execute_input": "2023-04-15T12:16:50.996559Z",
     "iopub.status.busy": "2023-04-15T12:16:50.996204Z",
     "iopub.status.idle": "2023-04-15T12:16:51.004438Z",
     "shell.execute_reply": "2023-04-15T12:16:51.003292Z"
    },
    "papermill": {
     "duration": 0.022754,
     "end_time": "2023-04-15T12:16:51.006637",
     "exception": false,
     "start_time": "2023-04-15T12:16:50.983883",
     "status": "completed"
    },
    "tags": []
   },
   "outputs": [
    {
     "data": {
      "text/plain": [
       "array(['california', 'calendar', 'resumes', 'archives', 'junk file',\n",
       "       'ces', 'logistics', 'tufco', 'projects', 'online trading',\n",
       "       'management', 'esvl', 'ooc', 'corporate', 'tw-commercial group',\n",
       "       'genco-jv_ipo', 'junk', 'deal discrepancies', 'e-mail bin',\n",
       "       'bill williams iii'], dtype=object)"
      ]
     },
     "execution_count": 21,
     "metadata": {},
     "output_type": "execute_result"
    }
   ],
   "source": [
    "data['X-Folder'].unique()"
   ]
  },
  {
   "cell_type": "code",
   "execution_count": 22,
   "id": "ff4ee753",
   "metadata": {
    "execution": {
     "iopub.execute_input": "2023-04-15T12:16:51.033060Z",
     "iopub.status.busy": "2023-04-15T12:16:51.031022Z",
     "iopub.status.idle": "2023-04-15T12:16:51.037385Z",
     "shell.execute_reply": "2023-04-15T12:16:51.036298Z"
    },
    "papermill": {
     "duration": 0.021628,
     "end_time": "2023-04-15T12:16:51.039794",
     "exception": false,
     "start_time": "2023-04-15T12:16:51.018166",
     "status": "completed"
    },
    "tags": []
   },
   "outputs": [],
   "source": [
    "def label_encoder(data):\n",
    "    encoder = LabelEncoder()\n",
    "    # apply encoder on dependent feature means X-Folder\n",
    "    y = encoder.fit_transform(data['X-Folder'])\n",
    "    return y"
   ]
  },
  {
   "cell_type": "code",
   "execution_count": 23,
   "id": "3d4f1b7f",
   "metadata": {
    "execution": {
     "iopub.execute_input": "2023-04-15T12:16:51.065573Z",
     "iopub.status.busy": "2023-04-15T12:16:51.064500Z",
     "iopub.status.idle": "2023-04-15T12:16:51.073878Z",
     "shell.execute_reply": "2023-04-15T12:16:51.072809Z"
    },
    "papermill": {
     "duration": 0.024738,
     "end_time": "2023-04-15T12:16:51.076300",
     "exception": false,
     "start_time": "2023-04-15T12:16:51.051562",
     "status": "completed"
    },
    "tags": []
   },
   "outputs": [],
   "source": [
    "y = label_encoder(data)\n",
    "input_data = data['text']"
   ]
  },
  {
   "cell_type": "markdown",
   "id": "a4321b7b",
   "metadata": {
    "papermill": {
     "duration": 0.01169,
     "end_time": "2023-04-15T12:16:51.099114",
     "exception": false,
     "start_time": "2023-04-15T12:16:51.087424",
     "status": "completed"
    },
    "tags": []
   },
   "source": [
    " Before going to the training process we convert the raw data into numerical form because machine \n",
    "learning algorithm can not understad the raw text directly so we need to convert the raw text into \n",
    " numerical form or vector representation using Bow , tf-idf.\n",
    " \n",
    " # 1. Bag-of-word\n",
    "It is a way of extracting feature from text for use in modeling such as machine learning algorithm.\n",
    "A bag of word is a represenation of text that describes the occurance of words within  a document.It involves two things.\n",
    "1. A vocubulary of known words\n",
    "2. A measure of the presence of known words\n",
    " \n",
    " "
   ]
  },
  {
   "cell_type": "code",
   "execution_count": 24,
   "id": "e6b6de1c",
   "metadata": {
    "execution": {
     "iopub.execute_input": "2023-04-15T12:16:51.123826Z",
     "iopub.status.busy": "2023-04-15T12:16:51.122665Z",
     "iopub.status.idle": "2023-04-15T12:16:52.866022Z",
     "shell.execute_reply": "2023-04-15T12:16:52.864278Z"
    },
    "papermill": {
     "duration": 1.758351,
     "end_time": "2023-04-15T12:16:52.868630",
     "exception": false,
     "start_time": "2023-04-15T12:16:51.110279",
     "status": "completed"
    },
    "tags": []
   },
   "outputs": [
    {
     "name": "stdout",
     "output_type": "stream",
     "text": [
      "Execution time : 1.7350153923034668\n"
     ]
    }
   ],
   "source": [
    "start = time.time()\n",
    "count_vect = CountVectorizer(min_df=5, max_features=5000)\n",
    "X= count_vect.fit_transform(input_data)\n",
    "end = time.time()\n",
    "print(\"Execution time :\",(end-start))"
   ]
  },
  {
   "cell_type": "code",
   "execution_count": 25,
   "id": "484783d5",
   "metadata": {
    "execution": {
     "iopub.execute_input": "2023-04-15T12:16:52.893505Z",
     "iopub.status.busy": "2023-04-15T12:16:52.891687Z",
     "iopub.status.idle": "2023-04-15T12:16:53.190846Z",
     "shell.execute_reply": "2023-04-15T12:16:53.189530Z"
    },
    "papermill": {
     "duration": 0.313909,
     "end_time": "2023-04-15T12:16:53.193425",
     "exception": false,
     "start_time": "2023-04-15T12:16:52.879516",
     "status": "completed"
    },
    "tags": []
   },
   "outputs": [
    {
     "name": "stdout",
     "output_type": "stream",
     "text": [
      "X shape :  (13586, 5000)\n",
      "Execution time : 0.29169535636901855\n"
     ]
    }
   ],
   "source": [
    "start= time.time()\n",
    "X= X.toarray()\n",
    "print(\"X shape : \",X.shape)\n",
    "end= time.time()\n",
    "print(\"Execution time :\",(end-start))\n"
   ]
  },
  {
   "cell_type": "code",
   "execution_count": 26,
   "id": "4d625175",
   "metadata": {
    "execution": {
     "iopub.execute_input": "2023-04-15T12:16:53.217659Z",
     "iopub.status.busy": "2023-04-15T12:16:53.217301Z",
     "iopub.status.idle": "2023-04-15T12:16:53.226108Z",
     "shell.execute_reply": "2023-04-15T12:16:53.224945Z"
    },
    "papermill": {
     "duration": 0.023236,
     "end_time": "2023-04-15T12:16:53.228161",
     "exception": false,
     "start_time": "2023-04-15T12:16:53.204925",
     "status": "completed"
    },
    "tags": []
   },
   "outputs": [],
   "source": [
    "# create dataframe to store results\n",
    "f1_data = {\n",
    "    'Algorithm': ['Gaussian NB', 'Multinomial NB','Decision Tree','SVM','AdaBoost','ANN'],\n",
    "    'BoW': ''\n",
    "}\n",
    "\n",
    "\n",
    "jaccard_data = {\n",
    "    'Algorithm': ['Gaussian NB', 'Multinomial NB', 'Decision Tree','SVM','AdaBoost','ANN'],\n",
    "    'BoW': ''\n",
    "}\n",
    "\n",
    "\n",
    "acc_data = {\n",
    "    'Algorithm': ['Gaussian NB', 'Multinomial NB','Decision Tree','SVM','AdaBoost','ANN'],\n",
    "    'BoW': ''\n",
    "}\n",
    "\n",
    "f1_df= pd.DataFrame(f1_data)\n",
    "jac_df= pd.DataFrame(jaccard_data)\n",
    "acc_df= pd.DataFrame(acc_data)\n"
   ]
  },
  {
   "cell_type": "code",
   "execution_count": 27,
   "id": "d0632110",
   "metadata": {
    "execution": {
     "iopub.execute_input": "2023-04-15T12:16:53.252483Z",
     "iopub.status.busy": "2023-04-15T12:16:53.251481Z",
     "iopub.status.idle": "2023-04-15T12:16:53.258120Z",
     "shell.execute_reply": "2023-04-15T12:16:53.256967Z"
    },
    "papermill": {
     "duration": 0.021626,
     "end_time": "2023-04-15T12:16:53.260460",
     "exception": false,
     "start_time": "2023-04-15T12:16:53.238834",
     "status": "completed"
    },
    "tags": []
   },
   "outputs": [],
   "source": [
    "# Training and Evaluation\n",
    "models =[GaussianNB(),MultinomialNB(), DecisionTreeClassifier(), LinearSVC(),\n",
    "         AdaBoostClassifier(base_estimator=DecisionTreeClassifier(),n_estimators=5),\n",
    "         MLPClassifier(hidden_layer_sizes=(10,))]\n",
    "\n",
    "names=['GaussianNB','MultinomialNB','DecisionTreeClassifier','LinearSVC','AdaBoostClassifier','MLPClassifier']\n",
    "\n",
    "\n",
    "jacc_scores = []\n",
    "acc_scores = []\n",
    "f1_scores = []\n",
    "exec_times = []"
   ]
  },
  {
   "cell_type": "code",
   "execution_count": 28,
   "id": "420eabb1",
   "metadata": {
    "execution": {
     "iopub.execute_input": "2023-04-15T12:16:53.283950Z",
     "iopub.status.busy": "2023-04-15T12:16:53.283591Z",
     "iopub.status.idle": "2023-04-15T12:28:00.439181Z",
     "shell.execute_reply": "2023-04-15T12:28:00.437940Z"
    },
    "papermill": {
     "duration": 667.181377,
     "end_time": "2023-04-15T12:28:00.452861",
     "exception": false,
     "start_time": "2023-04-15T12:16:53.271484",
     "status": "completed"
    },
    "tags": []
   },
   "outputs": [
    {
     "name": "stdout",
     "output_type": "stream",
     "text": [
      "GaussianNB()\n",
      "accuracy:  0.5668335498589943\n",
      "f1_score:  0.5441217915003902\n",
      "Jaccard_index:  0.392009682672538\n",
      "time (sec):  16.9053316116333\n",
      "\n",
      "\n",
      "MultinomialNB()\n",
      "accuracy:  0.7278835760885255\n",
      "f1_score:  0.6939782155546919\n",
      "Jaccard_index:  0.5628269573042803\n",
      "time (sec):  37.283658504486084\n",
      "\n",
      "\n",
      "DecisionTreeClassifier()\n",
      "accuracy:  0.6391881655388104\n",
      "f1_score:  0.6206441383256058\n",
      "Jaccard_index:  0.47065104482929315\n",
      "time (sec):  61.29569220542908\n",
      "\n",
      "\n",
      "LinearSVC()\n",
      "accuracy:  0.7164733643646157\n",
      "f1_score:  0.6986398758689013\n",
      "Jaccard_index:  0.5612043713603372\n",
      "time (sec):  27.06520104408264\n",
      "\n",
      "\n",
      "AdaBoostClassifier(base_estimator=DecisionTreeClassifier(), n_estimators=5)\n",
      "accuracy:  0.6478741079995872\n",
      "f1_score:  0.627994046351007\n",
      "Jaccard_index:  0.481102532330037\n",
      "time (sec):  297.92735266685486\n",
      "\n",
      "\n",
      "MLPClassifier(hidden_layer_sizes=(10,))\n",
      "accuracy:  0.7266309500886009\n",
      "f1_score:  0.70805583925509\n",
      "Jaccard_index:  0.5718086166189493\n",
      "time (sec):  226.65907287597656\n",
      "\n",
      "\n"
     ]
    }
   ],
   "source": [
    "for model, name in zip(models,names):\n",
    "    print(model)\n",
    "    start= time.time()\n",
    "    scoring ={\"acc\":'accuracy',\n",
    "             'f1_mac':'f1_macro',\n",
    "             'jacc_mac':'jaccard_macro'}\n",
    "    scores = cross_validate(model,X,y,cv=5, n_jobs=4,scoring=scoring)\n",
    "    training_time= (time.time()-start)\n",
    "    print(\"accuracy: \", scores['test_acc'].mean())\n",
    "    print(\"f1_score: \", scores['test_f1_mac'].mean())\n",
    "    print(\"Jaccard_index: \", scores['test_jacc_mac'].mean())\n",
    "    print(\"time (sec): \", training_time)\n",
    "    print(\"\\n\")\n",
    "    jacc_scores.append(scores['test_jacc_mac'].mean())\n",
    "    acc_scores.append(scores['test_acc'].mean())\n",
    "    f1_scores.append(scores['test_f1_mac'].mean())\n",
    "    exec_times.append(training_time)"
   ]
  },
  {
   "cell_type": "code",
   "execution_count": 29,
   "id": "8c413141",
   "metadata": {
    "execution": {
     "iopub.execute_input": "2023-04-15T12:28:00.478404Z",
     "iopub.status.busy": "2023-04-15T12:28:00.477302Z",
     "iopub.status.idle": "2023-04-15T12:28:00.486413Z",
     "shell.execute_reply": "2023-04-15T12:28:00.485278Z"
    },
    "papermill": {
     "duration": 0.02475,
     "end_time": "2023-04-15T12:28:00.488778",
     "exception": false,
     "start_time": "2023-04-15T12:28:00.464028",
     "status": "completed"
    },
    "tags": []
   },
   "outputs": [],
   "source": [
    "acc_df['BoW'] = acc_scores\n",
    "f1_df['BoW'] =f1_scores\n",
    "jac_df['BoW'] =jacc_scores\n",
    "acc_df['BoW_time'] = training_time"
   ]
  },
  {
   "cell_type": "code",
   "execution_count": 30,
   "id": "65fd8996",
   "metadata": {
    "execution": {
     "iopub.execute_input": "2023-04-15T12:28:00.512934Z",
     "iopub.status.busy": "2023-04-15T12:28:00.512571Z",
     "iopub.status.idle": "2023-04-15T12:28:00.517678Z",
     "shell.execute_reply": "2023-04-15T12:28:00.516571Z"
    },
    "papermill": {
     "duration": 0.020163,
     "end_time": "2023-04-15T12:28:00.520202",
     "exception": false,
     "start_time": "2023-04-15T12:28:00.500039",
     "status": "completed"
    },
    "tags": []
   },
   "outputs": [],
   "source": [
    "acc_df['BoW_time'] = training_time"
   ]
  },
  {
   "cell_type": "code",
   "execution_count": 31,
   "id": "471e8d76",
   "metadata": {
    "execution": {
     "iopub.execute_input": "2023-04-15T12:28:00.544185Z",
     "iopub.status.busy": "2023-04-15T12:28:00.543818Z",
     "iopub.status.idle": "2023-04-15T12:28:00.556842Z",
     "shell.execute_reply": "2023-04-15T12:28:00.555711Z"
    },
    "papermill": {
     "duration": 0.027989,
     "end_time": "2023-04-15T12:28:00.559367",
     "exception": false,
     "start_time": "2023-04-15T12:28:00.531378",
     "status": "completed"
    },
    "tags": []
   },
   "outputs": [
    {
     "data": {
      "text/html": [
       "<div>\n",
       "<style scoped>\n",
       "    .dataframe tbody tr th:only-of-type {\n",
       "        vertical-align: middle;\n",
       "    }\n",
       "\n",
       "    .dataframe tbody tr th {\n",
       "        vertical-align: top;\n",
       "    }\n",
       "\n",
       "    .dataframe thead th {\n",
       "        text-align: right;\n",
       "    }\n",
       "</style>\n",
       "<table border=\"1\" class=\"dataframe\">\n",
       "  <thead>\n",
       "    <tr style=\"text-align: right;\">\n",
       "      <th></th>\n",
       "      <th>Algorithm</th>\n",
       "      <th>BoW</th>\n",
       "      <th>BoW_time</th>\n",
       "    </tr>\n",
       "  </thead>\n",
       "  <tbody>\n",
       "    <tr>\n",
       "      <th>0</th>\n",
       "      <td>Gaussian NB</td>\n",
       "      <td>0.566834</td>\n",
       "      <td>226.659073</td>\n",
       "    </tr>\n",
       "    <tr>\n",
       "      <th>1</th>\n",
       "      <td>Multinomial NB</td>\n",
       "      <td>0.727884</td>\n",
       "      <td>226.659073</td>\n",
       "    </tr>\n",
       "    <tr>\n",
       "      <th>2</th>\n",
       "      <td>Decision Tree</td>\n",
       "      <td>0.639188</td>\n",
       "      <td>226.659073</td>\n",
       "    </tr>\n",
       "    <tr>\n",
       "      <th>3</th>\n",
       "      <td>SVM</td>\n",
       "      <td>0.716473</td>\n",
       "      <td>226.659073</td>\n",
       "    </tr>\n",
       "    <tr>\n",
       "      <th>4</th>\n",
       "      <td>AdaBoost</td>\n",
       "      <td>0.647874</td>\n",
       "      <td>226.659073</td>\n",
       "    </tr>\n",
       "    <tr>\n",
       "      <th>5</th>\n",
       "      <td>ANN</td>\n",
       "      <td>0.726631</td>\n",
       "      <td>226.659073</td>\n",
       "    </tr>\n",
       "  </tbody>\n",
       "</table>\n",
       "</div>"
      ],
      "text/plain": [
       "        Algorithm       BoW    BoW_time\n",
       "0     Gaussian NB  0.566834  226.659073\n",
       "1  Multinomial NB  0.727884  226.659073\n",
       "2   Decision Tree  0.639188  226.659073\n",
       "3             SVM  0.716473  226.659073\n",
       "4        AdaBoost  0.647874  226.659073\n",
       "5             ANN  0.726631  226.659073"
      ]
     },
     "execution_count": 31,
     "metadata": {},
     "output_type": "execute_result"
    }
   ],
   "source": [
    "acc_df"
   ]
  },
  {
   "cell_type": "code",
   "execution_count": 32,
   "id": "bedc161b",
   "metadata": {
    "execution": {
     "iopub.execute_input": "2023-04-15T12:28:00.585066Z",
     "iopub.status.busy": "2023-04-15T12:28:00.584168Z",
     "iopub.status.idle": "2023-04-15T12:28:00.593623Z",
     "shell.execute_reply": "2023-04-15T12:28:00.592501Z"
    },
    "papermill": {
     "duration": 0.02478,
     "end_time": "2023-04-15T12:28:00.596372",
     "exception": false,
     "start_time": "2023-04-15T12:28:00.571592",
     "status": "completed"
    },
    "tags": []
   },
   "outputs": [],
   "source": [
    "# save the results\n",
    "acc_df.to_csv(\"accuracy.csv\", index=False)\n",
    "f1_df.to_csv(\"f1_score.csv\", index=False)\n",
    "jac_df.to_csv(\"jacc_score.csv\", index=False)"
   ]
  },
  {
   "cell_type": "markdown",
   "id": "2da67bb4",
   "metadata": {
    "papermill": {
     "duration": 0.011101,
     "end_time": "2023-04-15T12:28:00.619301",
     "exception": false,
     "start_time": "2023-04-15T12:28:00.608200",
     "status": "completed"
    },
    "tags": []
   },
   "source": [
    "### Bag Of Words Bigram"
   ]
  },
  {
   "cell_type": "code",
   "execution_count": 33,
   "id": "f6348104",
   "metadata": {
    "execution": {
     "iopub.execute_input": "2023-04-15T12:28:00.644420Z",
     "iopub.status.busy": "2023-04-15T12:28:00.643287Z",
     "iopub.status.idle": "2023-04-15T12:28:06.330681Z",
     "shell.execute_reply": "2023-04-15T12:28:06.329267Z"
    },
    "papermill": {
     "duration": 5.70304,
     "end_time": "2023-04-15T12:28:06.333421",
     "exception": false,
     "start_time": "2023-04-15T12:28:00.630381",
     "status": "completed"
    },
    "tags": []
   },
   "outputs": [
    {
     "name": "stdout",
     "output_type": "stream",
     "text": [
      "X shape : (13586, 5000)\n",
      "Execution time : 5.679706811904907\n"
     ]
    }
   ],
   "source": [
    "start = time.time()\n",
    "count_vect = CountVectorizer(min_df=5, max_features=5000,ngram_range=(2,2))\n",
    "X= count_vect.fit_transform(input_data)\n",
    "X = X.toarray()\n",
    "print(\"X shape :\",X.shape)\n",
    "end = time.time()\n",
    "print(\"Execution time :\",(end-start))"
   ]
  },
  {
   "cell_type": "markdown",
   "id": "367fa11c",
   "metadata": {
    "papermill": {
     "duration": 0.012511,
     "end_time": "2023-04-15T12:28:06.358540",
     "exception": false,
     "start_time": "2023-04-15T12:28:06.346029",
     "status": "completed"
    },
    "tags": []
   },
   "source": [
    "### Training and evaluation"
   ]
  },
  {
   "cell_type": "code",
   "execution_count": 34,
   "id": "0ac34e5a",
   "metadata": {
    "execution": {
     "iopub.execute_input": "2023-04-15T12:28:06.384277Z",
     "iopub.status.busy": "2023-04-15T12:28:06.383869Z",
     "iopub.status.idle": "2023-04-15T12:43:06.454119Z",
     "shell.execute_reply": "2023-04-15T12:43:06.449687Z"
    },
    "papermill": {
     "duration": 900.097253,
     "end_time": "2023-04-15T12:43:06.468006",
     "exception": false,
     "start_time": "2023-04-15T12:28:06.370753",
     "status": "completed"
    },
    "tags": []
   },
   "outputs": [
    {
     "name": "stdout",
     "output_type": "stream",
     "text": [
      "GaussianNB()\n",
      "accuracy:  0.5741205388469244\n",
      "f1_score:  0.5531704529630934\n",
      "Jaccard_index:  0.39584816767646086\n",
      "time (sec):  14.482750654220581\n",
      "\n",
      "\n",
      "MultinomialNB()\n",
      "accuracy:  0.6235102452251284\n",
      "f1_score:  0.6041764725559157\n",
      "Jaccard_index:  0.45575511615901265\n",
      "time (sec):  37.24501156806946\n",
      "\n",
      "\n",
      "DecisionTreeClassifier()\n",
      "accuracy:  0.5753730835989463\n",
      "f1_score:  0.565168437457654\n",
      "Jaccard_index:  0.4154682641006149\n",
      "time (sec):  157.89789056777954\n",
      "\n",
      "\n",
      "LinearSVC()\n",
      "accuracy:  0.6185783079474262\n",
      "f1_score:  0.6056464758193184\n",
      "Jaccard_index:  0.45476251370483345\n",
      "time (sec):  19.93900442123413\n",
      "\n",
      "\n",
      "AdaBoostClassifier(base_estimator=DecisionTreeClassifier(), n_estimators=5)\n",
      "accuracy:  0.5632279033464116\n",
      "f1_score:  0.5525724432805649\n",
      "Jaccard_index:  0.4027439390950513\n",
      "time (sec):  334.44291257858276\n",
      "\n",
      "\n",
      "MLPClassifier(hidden_layer_sizes=(10,))\n",
      "accuracy:  0.5970857731401475\n",
      "f1_score:  0.5828702532160996\n",
      "Jaccard_index:  0.4313803737892967\n",
      "time (sec):  336.03135538101196\n",
      "\n",
      "\n"
     ]
    },
    {
     "data": {
      "text/html": [
       "<div>\n",
       "<style scoped>\n",
       "    .dataframe tbody tr th:only-of-type {\n",
       "        vertical-align: middle;\n",
       "    }\n",
       "\n",
       "    .dataframe tbody tr th {\n",
       "        vertical-align: top;\n",
       "    }\n",
       "\n",
       "    .dataframe thead th {\n",
       "        text-align: right;\n",
       "    }\n",
       "</style>\n",
       "<table border=\"1\" class=\"dataframe\">\n",
       "  <thead>\n",
       "    <tr style=\"text-align: right;\">\n",
       "      <th></th>\n",
       "      <th>Algorithm</th>\n",
       "      <th>BoW</th>\n",
       "      <th>BoW_time</th>\n",
       "      <th>BoWBi</th>\n",
       "      <th>BoWBi_time</th>\n",
       "    </tr>\n",
       "  </thead>\n",
       "  <tbody>\n",
       "    <tr>\n",
       "      <th>0</th>\n",
       "      <td>Gaussian NB</td>\n",
       "      <td>0.566834</td>\n",
       "      <td>226.659073</td>\n",
       "      <td>0.574121</td>\n",
       "      <td>336.031355</td>\n",
       "    </tr>\n",
       "    <tr>\n",
       "      <th>1</th>\n",
       "      <td>Multinomial NB</td>\n",
       "      <td>0.727884</td>\n",
       "      <td>226.659073</td>\n",
       "      <td>0.623510</td>\n",
       "      <td>336.031355</td>\n",
       "    </tr>\n",
       "    <tr>\n",
       "      <th>2</th>\n",
       "      <td>Decision Tree</td>\n",
       "      <td>0.639188</td>\n",
       "      <td>226.659073</td>\n",
       "      <td>0.575373</td>\n",
       "      <td>336.031355</td>\n",
       "    </tr>\n",
       "    <tr>\n",
       "      <th>3</th>\n",
       "      <td>SVM</td>\n",
       "      <td>0.716473</td>\n",
       "      <td>226.659073</td>\n",
       "      <td>0.618578</td>\n",
       "      <td>336.031355</td>\n",
       "    </tr>\n",
       "    <tr>\n",
       "      <th>4</th>\n",
       "      <td>AdaBoost</td>\n",
       "      <td>0.647874</td>\n",
       "      <td>226.659073</td>\n",
       "      <td>0.563228</td>\n",
       "      <td>336.031355</td>\n",
       "    </tr>\n",
       "    <tr>\n",
       "      <th>5</th>\n",
       "      <td>ANN</td>\n",
       "      <td>0.726631</td>\n",
       "      <td>226.659073</td>\n",
       "      <td>0.597086</td>\n",
       "      <td>336.031355</td>\n",
       "    </tr>\n",
       "  </tbody>\n",
       "</table>\n",
       "</div>"
      ],
      "text/plain": [
       "        Algorithm       BoW    BoW_time     BoWBi  BoWBi_time\n",
       "0     Gaussian NB  0.566834  226.659073  0.574121  336.031355\n",
       "1  Multinomial NB  0.727884  226.659073  0.623510  336.031355\n",
       "2   Decision Tree  0.639188  226.659073  0.575373  336.031355\n",
       "3             SVM  0.716473  226.659073  0.618578  336.031355\n",
       "4        AdaBoost  0.647874  226.659073  0.563228  336.031355\n",
       "5             ANN  0.726631  226.659073  0.597086  336.031355"
      ]
     },
     "execution_count": 34,
     "metadata": {},
     "output_type": "execute_result"
    }
   ],
   "source": [
    "models =[GaussianNB(),MultinomialNB(), DecisionTreeClassifier(), LinearSVC(),\n",
    "         AdaBoostClassifier(base_estimator=DecisionTreeClassifier(),n_estimators=5),\n",
    "         MLPClassifier(hidden_layer_sizes=(10,))]\n",
    "\n",
    "names=['GaussianNB','MultinomialNB','DecisionTreeClassifier','LinearSVC','AdaBoostClassifier','MLPClassifier']\n",
    "\n",
    "\n",
    "jacc_scores = []\n",
    "acc_scores = []\n",
    "f1_scores = []\n",
    "exec_times = []\n",
    "\n",
    "for model, name in zip(models,names):\n",
    "    print(model)\n",
    "    start= time.time()\n",
    "    scoring ={\"acc\":'accuracy',\n",
    "             'f1_mac':'f1_macro',\n",
    "             'jacc_mac':'jaccard_macro'}\n",
    "    scores = cross_validate(model,X,y,cv=5, n_jobs=4,scoring=scoring)\n",
    "    training_time= (time.time()-start)\n",
    "    print(\"accuracy: \", scores['test_acc'].mean())\n",
    "    print(\"f1_score: \", scores['test_f1_mac'].mean())\n",
    "    print(\"Jaccard_index: \", scores['test_jacc_mac'].mean())\n",
    "    print(\"time (sec): \", training_time)\n",
    "    print(\"\\n\")\n",
    "    jacc_scores.append(scores['test_jacc_mac'].mean())\n",
    "    acc_scores.append(scores['test_acc'].mean())\n",
    "    f1_scores.append(scores['test_f1_mac'].mean())\n",
    "    exec_times.append(training_time)\n",
    "    \n",
    "acc_df['BoWBi'] = acc_scores\n",
    "f1_df['BoWBi'] =f1_scores\n",
    "jac_df['BoWBi'] =jacc_scores\n",
    "acc_df['BoWBi_time'] = training_time\n",
    "acc_df"
   ]
  },
  {
   "cell_type": "code",
   "execution_count": 35,
   "id": "58b0fdf1",
   "metadata": {
    "execution": {
     "iopub.execute_input": "2023-04-15T12:43:06.494142Z",
     "iopub.status.busy": "2023-04-15T12:43:06.493041Z",
     "iopub.status.idle": "2023-04-15T12:43:06.502361Z",
     "shell.execute_reply": "2023-04-15T12:43:06.501342Z"
    },
    "papermill": {
     "duration": 0.024551,
     "end_time": "2023-04-15T12:43:06.504865",
     "exception": false,
     "start_time": "2023-04-15T12:43:06.480314",
     "status": "completed"
    },
    "tags": []
   },
   "outputs": [],
   "source": [
    "# save the results\n",
    "acc_df.to_csv(\"accuracy.csv\", index=False)\n",
    "f1_df.to_csv(\"f1_score.csv\", index=False)\n",
    "jac_df.to_csv(\"jacc_score.csv\", index=False)"
   ]
  },
  {
   "cell_type": "markdown",
   "id": "8307442a",
   "metadata": {
    "papermill": {
     "duration": 0.011692,
     "end_time": "2023-04-15T12:43:06.529020",
     "exception": false,
     "start_time": "2023-04-15T12:43:06.517328",
     "status": "completed"
    },
    "tags": []
   },
   "source": [
    "### TFidf (term-frequency inverse document frequency)¶"
   ]
  },
  {
   "cell_type": "code",
   "execution_count": 36,
   "id": "1bf12a7e",
   "metadata": {
    "execution": {
     "iopub.execute_input": "2023-04-15T12:43:06.553762Z",
     "iopub.status.busy": "2023-04-15T12:43:06.553370Z",
     "iopub.status.idle": "2023-04-15T12:43:08.757628Z",
     "shell.execute_reply": "2023-04-15T12:43:08.756460Z"
    },
    "papermill": {
     "duration": 2.219425,
     "end_time": "2023-04-15T12:43:08.759939",
     "exception": false,
     "start_time": "2023-04-15T12:43:06.540514",
     "status": "completed"
    },
    "tags": []
   },
   "outputs": [
    {
     "name": "stdout",
     "output_type": "stream",
     "text": [
      "X shape : (13586, 5000)\n",
      "execution time : 2.198418617248535\n"
     ]
    }
   ],
   "source": [
    "start= time.time()\n",
    "tfidf= TfidfVectorizer(min_df=5,max_features=5000)\n",
    "X = tfidf.fit_transform(input_data)\n",
    "X= X.toarray()\n",
    "print(\"X shape :\",X.shape)\n",
    "end = time.time()\n",
    "print(\"execution time :\",(end-start))\n"
   ]
  },
  {
   "cell_type": "code",
   "execution_count": 37,
   "id": "c64f94cf",
   "metadata": {
    "execution": {
     "iopub.execute_input": "2023-04-15T12:43:08.786515Z",
     "iopub.status.busy": "2023-04-15T12:43:08.785118Z",
     "iopub.status.idle": "2023-04-15T12:55:41.739266Z",
     "shell.execute_reply": "2023-04-15T12:55:41.738110Z"
    },
    "papermill": {
     "duration": 752.983513,
     "end_time": "2023-04-15T12:55:41.755350",
     "exception": false,
     "start_time": "2023-04-15T12:43:08.771837",
     "status": "completed"
    },
    "tags": []
   },
   "outputs": [
    {
     "name": "stdout",
     "output_type": "stream",
     "text": [
      "GaussianNB()\n",
      "accuracy:  0.5836893751846698\n",
      "f1_score:  0.5630253882669244\n",
      "Jaccard_index:  0.4115797560251563\n",
      "time (sec):  12.949916124343872\n",
      "\n",
      "\n",
      "MultinomialNB()\n",
      "accuracy:  0.72302468067543\n",
      "f1_score:  0.6815725509632343\n",
      "Jaccard_index:  0.5508293556366095\n",
      "time (sec):  2.2749176025390625\n",
      "\n",
      "\n",
      "DecisionTreeClassifier()\n",
      "accuracy:  0.6386731892483025\n",
      "f1_score:  0.623598143434159\n",
      "Jaccard_index:  0.4731872267901906\n",
      "time (sec):  71.01550006866455\n",
      "\n",
      "\n",
      "LinearSVC()\n",
      "accuracy:  0.7836020066065379\n",
      "f1_score:  0.7668982829267701\n",
      "Jaccard_index:  0.6454489354776655\n",
      "time (sec):  6.502036809921265\n",
      "\n",
      "\n",
      "AdaBoostClassifier(base_estimator=DecisionTreeClassifier(), n_estimators=5)\n",
      "accuracy:  0.6541296548616172\n",
      "f1_score:  0.6339147693839028\n",
      "Jaccard_index:  0.4881338835741076\n",
      "time (sec):  320.3334610462189\n",
      "\n",
      "\n",
      "MLPClassifier(hidden_layer_sizes=(10,))\n",
      "accuracy:  0.740837172973806\n",
      "f1_score:  0.7240256425269747\n",
      "Jaccard_index:  0.5923751886222164\n",
      "time (sec):  339.849662065506\n",
      "\n",
      "\n"
     ]
    },
    {
     "data": {
      "text/html": [
       "<div>\n",
       "<style scoped>\n",
       "    .dataframe tbody tr th:only-of-type {\n",
       "        vertical-align: middle;\n",
       "    }\n",
       "\n",
       "    .dataframe tbody tr th {\n",
       "        vertical-align: top;\n",
       "    }\n",
       "\n",
       "    .dataframe thead th {\n",
       "        text-align: right;\n",
       "    }\n",
       "</style>\n",
       "<table border=\"1\" class=\"dataframe\">\n",
       "  <thead>\n",
       "    <tr style=\"text-align: right;\">\n",
       "      <th></th>\n",
       "      <th>Algorithm</th>\n",
       "      <th>BoW</th>\n",
       "      <th>BoW_time</th>\n",
       "      <th>BoWBi</th>\n",
       "      <th>BoWBi_time</th>\n",
       "      <th>tdidf</th>\n",
       "      <th>tdidf_timing</th>\n",
       "    </tr>\n",
       "  </thead>\n",
       "  <tbody>\n",
       "    <tr>\n",
       "      <th>0</th>\n",
       "      <td>Gaussian NB</td>\n",
       "      <td>0.566834</td>\n",
       "      <td>226.659073</td>\n",
       "      <td>0.574121</td>\n",
       "      <td>336.031355</td>\n",
       "      <td>0.583689</td>\n",
       "      <td>339.849662</td>\n",
       "    </tr>\n",
       "    <tr>\n",
       "      <th>1</th>\n",
       "      <td>Multinomial NB</td>\n",
       "      <td>0.727884</td>\n",
       "      <td>226.659073</td>\n",
       "      <td>0.623510</td>\n",
       "      <td>336.031355</td>\n",
       "      <td>0.723025</td>\n",
       "      <td>339.849662</td>\n",
       "    </tr>\n",
       "    <tr>\n",
       "      <th>2</th>\n",
       "      <td>Decision Tree</td>\n",
       "      <td>0.639188</td>\n",
       "      <td>226.659073</td>\n",
       "      <td>0.575373</td>\n",
       "      <td>336.031355</td>\n",
       "      <td>0.638673</td>\n",
       "      <td>339.849662</td>\n",
       "    </tr>\n",
       "    <tr>\n",
       "      <th>3</th>\n",
       "      <td>SVM</td>\n",
       "      <td>0.716473</td>\n",
       "      <td>226.659073</td>\n",
       "      <td>0.618578</td>\n",
       "      <td>336.031355</td>\n",
       "      <td>0.783602</td>\n",
       "      <td>339.849662</td>\n",
       "    </tr>\n",
       "    <tr>\n",
       "      <th>4</th>\n",
       "      <td>AdaBoost</td>\n",
       "      <td>0.647874</td>\n",
       "      <td>226.659073</td>\n",
       "      <td>0.563228</td>\n",
       "      <td>336.031355</td>\n",
       "      <td>0.654130</td>\n",
       "      <td>339.849662</td>\n",
       "    </tr>\n",
       "    <tr>\n",
       "      <th>5</th>\n",
       "      <td>ANN</td>\n",
       "      <td>0.726631</td>\n",
       "      <td>226.659073</td>\n",
       "      <td>0.597086</td>\n",
       "      <td>336.031355</td>\n",
       "      <td>0.740837</td>\n",
       "      <td>339.849662</td>\n",
       "    </tr>\n",
       "  </tbody>\n",
       "</table>\n",
       "</div>"
      ],
      "text/plain": [
       "        Algorithm       BoW    BoW_time     BoWBi  BoWBi_time     tdidf  \\\n",
       "0     Gaussian NB  0.566834  226.659073  0.574121  336.031355  0.583689   \n",
       "1  Multinomial NB  0.727884  226.659073  0.623510  336.031355  0.723025   \n",
       "2   Decision Tree  0.639188  226.659073  0.575373  336.031355  0.638673   \n",
       "3             SVM  0.716473  226.659073  0.618578  336.031355  0.783602   \n",
       "4        AdaBoost  0.647874  226.659073  0.563228  336.031355  0.654130   \n",
       "5             ANN  0.726631  226.659073  0.597086  336.031355  0.740837   \n",
       "\n",
       "   tdidf_timing  \n",
       "0    339.849662  \n",
       "1    339.849662  \n",
       "2    339.849662  \n",
       "3    339.849662  \n",
       "4    339.849662  \n",
       "5    339.849662  "
      ]
     },
     "execution_count": 37,
     "metadata": {},
     "output_type": "execute_result"
    }
   ],
   "source": [
    "models =[GaussianNB(),MultinomialNB(), DecisionTreeClassifier(), LinearSVC(),\n",
    "         AdaBoostClassifier(base_estimator=DecisionTreeClassifier(),n_estimators=5),\n",
    "         MLPClassifier(hidden_layer_sizes=(10,))]\n",
    "\n",
    "names=['GaussianNB','MultinomialNB','DecisionTreeClassifier','LinearSVC','AdaBoostClassifier','MLPClassifier']\n",
    "\n",
    "\n",
    "jacc_scores = []\n",
    "acc_scores = []\n",
    "f1_scores = []\n",
    "exec_times = []\n",
    "\n",
    "for model, name in zip(models,names):\n",
    "    print(model)\n",
    "    start= time.time()\n",
    "    scoring ={\"acc\":'accuracy',\n",
    "             'f1_mac':'f1_macro',\n",
    "             'jacc_mac':'jaccard_macro'}\n",
    "    scores = cross_validate(model,X,y,cv=5, n_jobs=4,scoring=scoring)\n",
    "    training_time= (time.time()-start)\n",
    "    print(\"accuracy: \", scores['test_acc'].mean())\n",
    "    print(\"f1_score: \", scores['test_f1_mac'].mean())\n",
    "    print(\"Jaccard_index: \", scores['test_jacc_mac'].mean())\n",
    "    print(\"time (sec): \", training_time)\n",
    "    print(\"\\n\")\n",
    "    jacc_scores.append(scores['test_jacc_mac'].mean())\n",
    "    acc_scores.append(scores['test_acc'].mean())\n",
    "    f1_scores.append(scores['test_f1_mac'].mean())\n",
    "    exec_times.append(training_time)\n",
    "    \n",
    "acc_df['tdidf'] = acc_scores\n",
    "f1_df['tdidf'] =f1_scores\n",
    "jac_df['tdidf'] =jacc_scores\n",
    "acc_df['tdidf_timing'] = training_time\n",
    "acc_df"
   ]
  },
  {
   "cell_type": "code",
   "execution_count": 38,
   "id": "ab362249",
   "metadata": {
    "execution": {
     "iopub.execute_input": "2023-04-15T12:55:41.783014Z",
     "iopub.status.busy": "2023-04-15T12:55:41.782637Z",
     "iopub.status.idle": "2023-04-15T12:55:41.791900Z",
     "shell.execute_reply": "2023-04-15T12:55:41.790787Z"
    },
    "papermill": {
     "duration": 0.025942,
     "end_time": "2023-04-15T12:55:41.794510",
     "exception": false,
     "start_time": "2023-04-15T12:55:41.768568",
     "status": "completed"
    },
    "tags": []
   },
   "outputs": [],
   "source": [
    "# save the results\n",
    "acc_df.to_csv(\"accuracy.csv\", index=False)\n",
    "f1_df.to_csv(\"f1_score.csv\", index=False)\n",
    "jac_df.to_csv(\"jacc_score.csv\", index=False)"
   ]
  },
  {
   "cell_type": "code",
   "execution_count": null,
   "id": "f6ad3938",
   "metadata": {
    "papermill": {
     "duration": 0.012699,
     "end_time": "2023-04-15T12:55:41.820875",
     "exception": false,
     "start_time": "2023-04-15T12:55:41.808176",
     "status": "completed"
    },
    "tags": []
   },
   "outputs": [],
   "source": []
  }
 ],
 "metadata": {
  "kernelspec": {
   "display_name": "Python 3",
   "language": "python",
   "name": "python3"
  },
  "language_info": {
   "codemirror_mode": {
    "name": "ipython",
    "version": 3
   },
   "file_extension": ".py",
   "mimetype": "text/x-python",
   "name": "python",
   "nbconvert_exporter": "python",
   "pygments_lexer": "ipython3",
   "version": "3.7.12"
  },
  "papermill": {
   "default_parameters": {},
   "duration": 2748.850568,
   "end_time": "2023-04-15T12:55:44.565658",
   "environment_variables": {},
   "exception": null,
   "input_path": "__notebook__.ipynb",
   "output_path": "__notebook__.ipynb",
   "parameters": {},
   "start_time": "2023-04-15T12:09:55.715090",
   "version": "2.4.0"
  }
 },
 "nbformat": 4,
 "nbformat_minor": 5
}
