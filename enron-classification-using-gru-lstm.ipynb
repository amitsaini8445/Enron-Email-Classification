{
 "cells": [
  {
   "cell_type": "code",
   "execution_count": 1,
   "id": "0a985b03",
   "metadata": {
    "_cell_guid": "b1076dfc-b9ad-4769-8c92-a6c4dae69d19",
    "_uuid": "8f2839f25d086af736a60e9eeb907d3b93b6e0e5",
    "execution": {
     "iopub.execute_input": "2023-04-10T17:02:02.078252Z",
     "iopub.status.busy": "2023-04-10T17:02:02.077456Z",
     "iopub.status.idle": "2023-04-10T17:02:02.095343Z",
     "shell.execute_reply": "2023-04-10T17:02:02.093829Z"
    },
    "papermill": {
     "duration": 0.033297,
     "end_time": "2023-04-10T17:02:02.097649",
     "exception": false,
     "start_time": "2023-04-10T17:02:02.064352",
     "status": "completed"
    },
    "tags": []
   },
   "outputs": [
    {
     "name": "stdout",
     "output_type": "stream",
     "text": [
      "/kaggle/input/enron-dataset/preprocessed.csv\n"
     ]
    }
   ],
   "source": [
    "# This Python 3 environment comes with many helpful analytics libraries installed\n",
    "# It is defined by the kaggle/python Docker image: https://github.com/kaggle/docker-python\n",
    "# For example, here's several helpful packages to load\n",
    "\n",
    "import numpy as np # linear algebra\n",
    "import pandas as pd # data processing, CSV file I/O (e.g. pd.read_csv)\n",
    "\n",
    "# Input data files are available in the read-only \"../input/\" directory\n",
    "# For example, running this (by clicking run or pressing Shift+Enter) will list all files under the input directory\n",
    "\n",
    "import os\n",
    "for dirname, _, filenames in os.walk('/kaggle/input'):\n",
    "    for filename in filenames:\n",
    "        print(os.path.join(dirname, filename))\n",
    "\n",
    "# You can write up to 20GB to the current directory (/kaggle/working/) that gets preserved as output when you create a version using \"Save & Run All\" \n",
    "# You can also write temporary files to /kaggle/temp/, but they won't be saved outside of the current session"
   ]
  },
  {
   "cell_type": "markdown",
   "id": "e79c3850",
   "metadata": {
    "papermill": {
     "duration": 0.010156,
     "end_time": "2023-04-10T17:02:02.118279",
     "exception": false,
     "start_time": "2023-04-10T17:02:02.108123",
     "status": "completed"
    },
    "tags": []
   },
   "source": [
    "## Load all required library for the dataset\n"
   ]
  },
  {
   "cell_type": "code",
   "execution_count": 2,
   "id": "c8bb5471",
   "metadata": {
    "execution": {
     "iopub.execute_input": "2023-04-10T17:02:02.140724Z",
     "iopub.status.busy": "2023-04-10T17:02:02.140405Z",
     "iopub.status.idle": "2023-04-10T17:02:11.078332Z",
     "shell.execute_reply": "2023-04-10T17:02:11.077231Z"
    },
    "papermill": {
     "duration": 8.952607,
     "end_time": "2023-04-10T17:02:11.081289",
     "exception": false,
     "start_time": "2023-04-10T17:02:02.128682",
     "status": "completed"
    },
    "tags": []
   },
   "outputs": [],
   "source": [
    "import matplotlib.pyplot as plt\n",
    "import seaborn as sns\n",
    "import warnings\n",
    "warnings.filterwarnings('ignore')\n",
    "%matplotlib inline\n",
    "from sklearn.preprocessing import LabelEncoder\n",
    "from sklearn.model_selection import train_test_split\n",
    "from sklearn.metrics import confusion_matrix, classification_report\n",
    "\n",
    "from tensorflow.keras.preprocessing.text import Tokenizer\n",
    "from tensorflow.keras.preprocessing.sequence import pad_sequences\n",
    "from tensorflow.keras.models import Sequential\n",
    "from tensorflow.keras.layers import Dense, Flatten,LSTM,Embedding,GRU,SpatialDropout1D\n",
    "from tensorflow.keras.utils import to_categorical\n",
    "from tensorflow.keras.models import load_model,save_model\n",
    "from keras.callbacks import ModelCheckpoint # to save the model after each epochs\n",
    "from keras.callbacks import EarlyStopping # stop the training when model go to the overfitted condition\n",
    "# import torch\n",
    "# from torch import nn\n",
    "# from torch.utils.data import DataLoader\n",
    "# from torchvision import datasets\n",
    "# from torchvision.transforms import ToTensor\n"
   ]
  },
  {
   "cell_type": "markdown",
   "id": "8e20b392",
   "metadata": {
    "papermill": {
     "duration": 0.010266,
     "end_time": "2023-04-10T17:02:11.103671",
     "exception": false,
     "start_time": "2023-04-10T17:02:11.093405",
     "status": "completed"
    },
    "tags": []
   },
   "source": [
    "### read the dataset"
   ]
  },
  {
   "cell_type": "code",
   "execution_count": 3,
   "id": "abed2a27",
   "metadata": {
    "execution": {
     "iopub.execute_input": "2023-04-10T17:02:11.125995Z",
     "iopub.status.busy": "2023-04-10T17:02:11.125311Z",
     "iopub.status.idle": "2023-04-10T17:02:11.450168Z",
     "shell.execute_reply": "2023-04-10T17:02:11.449080Z"
    },
    "papermill": {
     "duration": 0.339025,
     "end_time": "2023-04-10T17:02:11.452976",
     "exception": false,
     "start_time": "2023-04-10T17:02:11.113951",
     "status": "completed"
    },
    "tags": []
   },
   "outputs": [],
   "source": [
    "\n",
    "df= pd.read_csv(\"/kaggle/input/enron-dataset/preprocessed.csv\")\n"
   ]
  },
  {
   "cell_type": "markdown",
   "id": "d0981d6f",
   "metadata": {
    "papermill": {
     "duration": 0.011526,
     "end_time": "2023-04-10T17:02:11.475405",
     "exception": false,
     "start_time": "2023-04-10T17:02:11.463879",
     "status": "completed"
    },
    "tags": []
   },
   "source": [
    "### EDA"
   ]
  },
  {
   "cell_type": "code",
   "execution_count": 4,
   "id": "2196d5fa",
   "metadata": {
    "execution": {
     "iopub.execute_input": "2023-04-10T17:02:11.498255Z",
     "iopub.status.busy": "2023-04-10T17:02:11.497917Z",
     "iopub.status.idle": "2023-04-10T17:02:11.515845Z",
     "shell.execute_reply": "2023-04-10T17:02:11.514830Z"
    },
    "papermill": {
     "duration": 0.032144,
     "end_time": "2023-04-10T17:02:11.518019",
     "exception": false,
     "start_time": "2023-04-10T17:02:11.485875",
     "status": "completed"
    },
    "tags": []
   },
   "outputs": [
    {
     "data": {
      "text/html": [
       "<div>\n",
       "<style scoped>\n",
       "    .dataframe tbody tr th:only-of-type {\n",
       "        vertical-align: middle;\n",
       "    }\n",
       "\n",
       "    .dataframe tbody tr th {\n",
       "        vertical-align: top;\n",
       "    }\n",
       "\n",
       "    .dataframe thead th {\n",
       "        text-align: right;\n",
       "    }\n",
       "</style>\n",
       "<table border=\"1\" class=\"dataframe\">\n",
       "  <thead>\n",
       "    <tr style=\"text-align: right;\">\n",
       "      <th></th>\n",
       "      <th>X-Folder</th>\n",
       "      <th>text</th>\n",
       "    </tr>\n",
       "  </thead>\n",
       "  <tbody>\n",
       "    <tr>\n",
       "      <th>0</th>\n",
       "      <td>california</td>\n",
       "      <td>caiso notice summer 2001 generation rfb market...</td>\n",
       "    </tr>\n",
       "    <tr>\n",
       "      <th>1</th>\n",
       "      <td>california</td>\n",
       "      <td>ca iso cal px information related 2000 market ...</td>\n",
       "    </tr>\n",
       "    <tr>\n",
       "      <th>2</th>\n",
       "      <td>california</td>\n",
       "      <td>caiso notification update inter sc trades adju...</td>\n",
       "    </tr>\n",
       "  </tbody>\n",
       "</table>\n",
       "</div>"
      ],
      "text/plain": [
       "     X-Folder                                               text\n",
       "0  california  caiso notice summer 2001 generation rfb market...\n",
       "1  california  ca iso cal px information related 2000 market ...\n",
       "2  california  caiso notification update inter sc trades adju..."
      ]
     },
     "execution_count": 4,
     "metadata": {},
     "output_type": "execute_result"
    }
   ],
   "source": [
    "df.head(3)"
   ]
  },
  {
   "cell_type": "code",
   "execution_count": 5,
   "id": "b4d4be63",
   "metadata": {
    "execution": {
     "iopub.execute_input": "2023-04-10T17:02:11.540511Z",
     "iopub.status.busy": "2023-04-10T17:02:11.540244Z",
     "iopub.status.idle": "2023-04-10T17:02:11.576635Z",
     "shell.execute_reply": "2023-04-10T17:02:11.575711Z"
    },
    "papermill": {
     "duration": 0.050001,
     "end_time": "2023-04-10T17:02:11.578644",
     "exception": false,
     "start_time": "2023-04-10T17:02:11.528643",
     "status": "completed"
    },
    "tags": []
   },
   "outputs": [
    {
     "data": {
      "text/html": [
       "<div>\n",
       "<style scoped>\n",
       "    .dataframe tbody tr th:only-of-type {\n",
       "        vertical-align: middle;\n",
       "    }\n",
       "\n",
       "    .dataframe tbody tr th {\n",
       "        vertical-align: top;\n",
       "    }\n",
       "\n",
       "    .dataframe thead th {\n",
       "        text-align: right;\n",
       "    }\n",
       "</style>\n",
       "<table border=\"1\" class=\"dataframe\">\n",
       "  <thead>\n",
       "    <tr style=\"text-align: right;\">\n",
       "      <th></th>\n",
       "      <th>X-Folder</th>\n",
       "      <th>text</th>\n",
       "    </tr>\n",
       "  </thead>\n",
       "  <tbody>\n",
       "    <tr>\n",
       "      <th>count</th>\n",
       "      <td>13586</td>\n",
       "      <td>13586</td>\n",
       "    </tr>\n",
       "    <tr>\n",
       "      <th>unique</th>\n",
       "      <td>20</td>\n",
       "      <td>12664</td>\n",
       "    </tr>\n",
       "    <tr>\n",
       "      <th>top</th>\n",
       "      <td>logistics</td>\n",
       "      <td>calpine daily gas nomination calpine daily gas...</td>\n",
       "    </tr>\n",
       "    <tr>\n",
       "      <th>freq</th>\n",
       "      <td>1170</td>\n",
       "      <td>10</td>\n",
       "    </tr>\n",
       "  </tbody>\n",
       "</table>\n",
       "</div>"
      ],
      "text/plain": [
       "         X-Folder                                               text\n",
       "count       13586                                              13586\n",
       "unique         20                                              12664\n",
       "top     logistics  calpine daily gas nomination calpine daily gas...\n",
       "freq         1170                                                 10"
      ]
     },
     "execution_count": 5,
     "metadata": {},
     "output_type": "execute_result"
    }
   ],
   "source": [
    "\n",
    "df.describe()"
   ]
  },
  {
   "cell_type": "code",
   "execution_count": 6,
   "id": "c0bdf4ba",
   "metadata": {
    "execution": {
     "iopub.execute_input": "2023-04-10T17:02:11.601172Z",
     "iopub.status.busy": "2023-04-10T17:02:11.600890Z",
     "iopub.status.idle": "2023-04-10T17:02:11.618573Z",
     "shell.execute_reply": "2023-04-10T17:02:11.616813Z"
    },
    "papermill": {
     "duration": 0.031468,
     "end_time": "2023-04-10T17:02:11.620693",
     "exception": false,
     "start_time": "2023-04-10T17:02:11.589225",
     "status": "completed"
    },
    "tags": []
   },
   "outputs": [
    {
     "name": "stdout",
     "output_type": "stream",
     "text": [
      "<class 'pandas.core.frame.DataFrame'>\n",
      "RangeIndex: 13586 entries, 0 to 13585\n",
      "Data columns (total 2 columns):\n",
      " #   Column    Non-Null Count  Dtype \n",
      "---  ------    --------------  ----- \n",
      " 0   X-Folder  13586 non-null  object\n",
      " 1   text      13586 non-null  object\n",
      "dtypes: object(2)\n",
      "memory usage: 212.4+ KB\n"
     ]
    }
   ],
   "source": [
    "df.info()"
   ]
  },
  {
   "cell_type": "markdown",
   "id": "adbc308c",
   "metadata": {
    "papermill": {
     "duration": 0.010497,
     "end_time": "2023-04-10T17:02:11.642566",
     "exception": false,
     "start_time": "2023-04-10T17:02:11.632069",
     "status": "completed"
    },
    "tags": []
   },
   "source": [
    "### find the number of categories in the given dataset"
   ]
  },
  {
   "cell_type": "code",
   "execution_count": 7,
   "id": "b469af34",
   "metadata": {
    "execution": {
     "iopub.execute_input": "2023-04-10T17:02:11.665372Z",
     "iopub.status.busy": "2023-04-10T17:02:11.665046Z",
     "iopub.status.idle": "2023-04-10T17:02:11.674695Z",
     "shell.execute_reply": "2023-04-10T17:02:11.673758Z"
    },
    "papermill": {
     "duration": 0.023678,
     "end_time": "2023-04-10T17:02:11.676832",
     "exception": false,
     "start_time": "2023-04-10T17:02:11.653154",
     "status": "completed"
    },
    "tags": []
   },
   "outputs": [
    {
     "data": {
      "text/plain": [
       "array(['california', 'calendar', 'resumes', 'archives', 'junk file',\n",
       "       'ces', 'logistics', 'tufco', 'projects', 'online trading',\n",
       "       'management', 'esvl', 'ooc', 'corporate', 'tw-commercial group',\n",
       "       'genco-jv_ipo', 'junk', 'deal discrepancies', 'e-mail bin',\n",
       "       'bill williams iii'], dtype=object)"
      ]
     },
     "execution_count": 7,
     "metadata": {},
     "output_type": "execute_result"
    }
   ],
   "source": [
    "df['X-Folder'].unique()"
   ]
  },
  {
   "cell_type": "code",
   "execution_count": 8,
   "id": "dbf979fa",
   "metadata": {
    "execution": {
     "iopub.execute_input": "2023-04-10T17:02:11.699929Z",
     "iopub.status.busy": "2023-04-10T17:02:11.699618Z",
     "iopub.status.idle": "2023-04-10T17:02:11.708683Z",
     "shell.execute_reply": "2023-04-10T17:02:11.707814Z"
    },
    "papermill": {
     "duration": 0.02326,
     "end_time": "2023-04-10T17:02:11.710876",
     "exception": false,
     "start_time": "2023-04-10T17:02:11.687616",
     "status": "completed"
    },
    "tags": []
   },
   "outputs": [
    {
     "data": {
      "text/plain": [
       "20"
      ]
     },
     "execution_count": 8,
     "metadata": {},
     "output_type": "execute_result"
    }
   ],
   "source": [
    "no_of_categories = len(df['X-Folder'].unique())\n",
    "no_of_categories"
   ]
  },
  {
   "cell_type": "code",
   "execution_count": 9,
   "id": "1c17d8d0",
   "metadata": {
    "execution": {
     "iopub.execute_input": "2023-04-10T17:02:11.733769Z",
     "iopub.status.busy": "2023-04-10T17:02:11.733474Z",
     "iopub.status.idle": "2023-04-10T17:02:11.742051Z",
     "shell.execute_reply": "2023-04-10T17:02:11.741025Z"
    },
    "papermill": {
     "duration": 0.02245,
     "end_time": "2023-04-10T17:02:11.744128",
     "exception": false,
     "start_time": "2023-04-10T17:02:11.721678",
     "status": "completed"
    },
    "tags": []
   },
   "outputs": [
    {
     "data": {
      "text/plain": [
       "logistics              1170\n",
       "tw-commercial group    1150\n",
       "california             1014\n",
       "bill williams iii      1004\n",
       "deal discrepancies      878\n",
       "management              799\n",
       "calendar                700\n",
       "esvl                    663\n",
       "tufco                   604\n",
       "resumes                 599\n",
       "e-mail bin              592\n",
       "ces                     572\n",
       "online trading          567\n",
       "junk                    544\n",
       "junk file               494\n",
       "ooc                     473\n",
       "genco-jv_ipo            465\n",
       "projects                459\n",
       "corporate               420\n",
       "archives                419\n",
       "Name: X-Folder, dtype: int64"
      ]
     },
     "execution_count": 9,
     "metadata": {},
     "output_type": "execute_result"
    }
   ],
   "source": [
    "# show categories names\n",
    "df['X-Folder'].value_counts()"
   ]
  },
  {
   "cell_type": "markdown",
   "id": "a78e286a",
   "metadata": {
    "papermill": {
     "duration": 0.011503,
     "end_time": "2023-04-10T17:02:11.766810",
     "exception": false,
     "start_time": "2023-04-10T17:02:11.755307",
     "status": "completed"
    },
    "tags": []
   },
   "source": [
    "### encode the target feature using the labelencoding"
   ]
  },
  {
   "cell_type": "code",
   "execution_count": 10,
   "id": "2ae5bb56",
   "metadata": {
    "execution": {
     "iopub.execute_input": "2023-04-10T17:02:11.793260Z",
     "iopub.status.busy": "2023-04-10T17:02:11.792933Z",
     "iopub.status.idle": "2023-04-10T17:02:11.798985Z",
     "shell.execute_reply": "2023-04-10T17:02:11.797908Z"
    },
    "papermill": {
     "duration": 0.021756,
     "end_time": "2023-04-10T17:02:11.801115",
     "exception": false,
     "start_time": "2023-04-10T17:02:11.779359",
     "status": "completed"
    },
    "tags": []
   },
   "outputs": [],
   "source": [
    "def label_encode(df):\n",
    "    label = LabelEncoder()\n",
    "    y = label.fit_transform(df['X-Folder'])\n",
    "    return y"
   ]
  },
  {
   "cell_type": "code",
   "execution_count": 11,
   "id": "e63c00a9",
   "metadata": {
    "execution": {
     "iopub.execute_input": "2023-04-10T17:02:11.824814Z",
     "iopub.status.busy": "2023-04-10T17:02:11.824526Z",
     "iopub.status.idle": "2023-04-10T17:02:11.832799Z",
     "shell.execute_reply": "2023-04-10T17:02:11.831817Z"
    },
    "papermill": {
     "duration": 0.02253,
     "end_time": "2023-04-10T17:02:11.834951",
     "exception": false,
     "start_time": "2023-04-10T17:02:11.812421",
     "status": "completed"
    },
    "tags": []
   },
   "outputs": [
    {
     "name": "stdout",
     "output_type": "stream",
     "text": [
      "(13586,)\n"
     ]
    }
   ],
   "source": [
    "y = label_encode(df)\n",
    "print(y.shape)\n"
   ]
  },
  {
   "cell_type": "code",
   "execution_count": 12,
   "id": "f998dbd1",
   "metadata": {
    "execution": {
     "iopub.execute_input": "2023-04-10T17:02:11.859288Z",
     "iopub.status.busy": "2023-04-10T17:02:11.857595Z",
     "iopub.status.idle": "2023-04-10T17:02:11.865391Z",
     "shell.execute_reply": "2023-04-10T17:02:11.864427Z"
    },
    "papermill": {
     "duration": 0.021787,
     "end_time": "2023-04-10T17:02:11.867512",
     "exception": false,
     "start_time": "2023-04-10T17:02:11.845725",
     "status": "completed"
    },
    "tags": []
   },
   "outputs": [
    {
     "name": "stdout",
     "output_type": "stream",
     "text": [
      "(13586, 20)\n"
     ]
    }
   ],
   "source": [
    "y = to_categorical(y,no_of_categories)\n",
    "y\n",
    "print(y.shape)"
   ]
  },
  {
   "cell_type": "code",
   "execution_count": 13,
   "id": "3b8b5f95",
   "metadata": {
    "execution": {
     "iopub.execute_input": "2023-04-10T17:02:11.891462Z",
     "iopub.status.busy": "2023-04-10T17:02:11.891187Z",
     "iopub.status.idle": "2023-04-10T17:02:11.896688Z",
     "shell.execute_reply": "2023-04-10T17:02:11.895820Z"
    },
    "papermill": {
     "duration": 0.019816,
     "end_time": "2023-04-10T17:02:11.898809",
     "exception": false,
     "start_time": "2023-04-10T17:02:11.878993",
     "status": "completed"
    },
    "tags": []
   },
   "outputs": [],
   "source": [
    "X = df['text']"
   ]
  },
  {
   "cell_type": "markdown",
   "id": "0a2356d8",
   "metadata": {
    "papermill": {
     "duration": 0.010742,
     "end_time": "2023-04-10T17:02:11.920453",
     "exception": false,
     "start_time": "2023-04-10T17:02:11.909711",
     "status": "completed"
    },
    "tags": []
   },
   "source": [
    "### Word Embedding:\n",
    "A word embedding is a class of approaches for representing words and documents using a dense vector representation.\n",
    "\n",
    "In an embedding, words are represented by dense vectors where a vector represents the projection of the word into a continuous vector space.The position of a word within the vector space is learned from text and is based on the words that surround the word when it is used.\n",
    "The position of a word in the learned vector space is referred to as its embedding."
   ]
  },
  {
   "cell_type": "code",
   "execution_count": 14,
   "id": "74be8b71",
   "metadata": {
    "execution": {
     "iopub.execute_input": "2023-04-10T17:02:11.943520Z",
     "iopub.status.busy": "2023-04-10T17:02:11.943261Z",
     "iopub.status.idle": "2023-04-10T17:02:13.389670Z",
     "shell.execute_reply": "2023-04-10T17:02:13.388587Z"
    },
    "papermill": {
     "duration": 1.460818,
     "end_time": "2023-04-10T17:02:13.392309",
     "exception": false,
     "start_time": "2023-04-10T17:02:11.931491",
     "status": "completed"
    },
    "tags": []
   },
   "outputs": [],
   "source": [
    "# tokenize the text\n",
    "tokenize_text = Tokenizer()\n",
    "# fit the tokenizer to the text\n",
    "tokenize_text.fit_on_texts(df['text'].values)"
   ]
  },
  {
   "cell_type": "code",
   "execution_count": 15,
   "id": "3b991e12",
   "metadata": {
    "execution": {
     "iopub.execute_input": "2023-04-10T17:02:13.417974Z",
     "iopub.status.busy": "2023-04-10T17:02:13.417613Z",
     "iopub.status.idle": "2023-04-10T17:02:13.422548Z",
     "shell.execute_reply": "2023-04-10T17:02:13.421218Z"
    },
    "papermill": {
     "duration": 0.020817,
     "end_time": "2023-04-10T17:02:13.425318",
     "exception": false,
     "start_time": "2023-04-10T17:02:13.404501",
     "status": "completed"
    },
    "tags": []
   },
   "outputs": [],
   "source": [
    "tokenize_text.num_words"
   ]
  },
  {
   "cell_type": "markdown",
   "id": "edfffda4",
   "metadata": {
    "papermill": {
     "duration": 0.011575,
     "end_time": "2023-04-10T17:02:13.448154",
     "exception": false,
     "start_time": "2023-04-10T17:02:13.436579",
     "status": "completed"
    },
    "tags": []
   },
   "source": [
    " ### check the length of tokenize text"
   ]
  },
  {
   "cell_type": "code",
   "execution_count": 16,
   "id": "e83135cb",
   "metadata": {
    "execution": {
     "iopub.execute_input": "2023-04-10T17:02:13.472292Z",
     "iopub.status.busy": "2023-04-10T17:02:13.471986Z",
     "iopub.status.idle": "2023-04-10T17:02:13.478349Z",
     "shell.execute_reply": "2023-04-10T17:02:13.477266Z"
    },
    "papermill": {
     "duration": 0.020755,
     "end_time": "2023-04-10T17:02:13.480434",
     "exception": false,
     "start_time": "2023-04-10T17:02:13.459679",
     "status": "completed"
    },
    "tags": []
   },
   "outputs": [
    {
     "data": {
      "text/plain": [
       "59592"
      ]
     },
     "execution_count": 16,
     "metadata": {},
     "output_type": "execute_result"
    }
   ],
   "source": [
    "vocab_size = len(tokenize_text.word_index)+1\n",
    "vocab_size\n"
   ]
  },
  {
   "cell_type": "code",
   "execution_count": 17,
   "id": "600b66d2",
   "metadata": {
    "execution": {
     "iopub.execute_input": "2023-04-10T17:02:13.505552Z",
     "iopub.status.busy": "2023-04-10T17:02:13.504926Z",
     "iopub.status.idle": "2023-04-10T17:02:14.599119Z",
     "shell.execute_reply": "2023-04-10T17:02:14.598084Z"
    },
    "papermill": {
     "duration": 1.109712,
     "end_time": "2023-04-10T17:02:14.601698",
     "exception": false,
     "start_time": "2023-04-10T17:02:13.491986",
     "status": "completed"
    },
    "tags": []
   },
   "outputs": [],
   "source": [
    "# integer encode the documents \n",
    "encoded_docs = tokenize_text.texts_to_sequences(df['text'].values)\n",
    "# maximum number of word in each text should be 150 \n",
    "max_seq_len = 150\n",
    "# pad the input sequence so that they are all in the same length for modeling\n",
    "padded_docs = pad_sequences(encoded_docs, maxlen=max_seq_len,padding=\"post\")\n",
    "# "
   ]
  },
  {
   "cell_type": "markdown",
   "id": "933527fe",
   "metadata": {
    "papermill": {
     "duration": 0.011301,
     "end_time": "2023-04-10T17:02:14.624896",
     "exception": false,
     "start_time": "2023-04-10T17:02:14.613595",
     "status": "completed"
    },
    "tags": []
   },
   "source": [
    "474,\n",
    " 496,\n",
    " 270,\n",
    " 11,\n",
    " 331,\n",
    " 10613,\n",
    " 47,\n",
    " 916,\n",
    " 27,\n",
    " 173,\n",
    " 10614,"
   ]
  },
  {
   "cell_type": "code",
   "execution_count": 18,
   "id": "fe5387b1",
   "metadata": {
    "execution": {
     "iopub.execute_input": "2023-04-10T17:02:14.649256Z",
     "iopub.status.busy": "2023-04-10T17:02:14.648368Z",
     "iopub.status.idle": "2023-04-10T17:02:14.655284Z",
     "shell.execute_reply": "2023-04-10T17:02:14.654142Z"
    },
    "papermill": {
     "duration": 0.021435,
     "end_time": "2023-04-10T17:02:14.657436",
     "exception": false,
     "start_time": "2023-04-10T17:02:14.636001",
     "status": "completed"
    },
    "tags": []
   },
   "outputs": [
    {
     "data": {
      "text/plain": [
       "10"
      ]
     },
     "execution_count": 18,
     "metadata": {},
     "output_type": "execute_result"
    }
   ],
   "source": [
    "encoded_docs[0].index(10614)"
   ]
  },
  {
   "cell_type": "code",
   "execution_count": 19,
   "id": "37eac1a9",
   "metadata": {
    "execution": {
     "iopub.execute_input": "2023-04-10T17:02:14.681734Z",
     "iopub.status.busy": "2023-04-10T17:02:14.680769Z",
     "iopub.status.idle": "2023-04-10T17:02:14.689585Z",
     "shell.execute_reply": "2023-04-10T17:02:14.688439Z"
    },
    "papermill": {
     "duration": 0.023272,
     "end_time": "2023-04-10T17:02:14.692014",
     "exception": false,
     "start_time": "2023-04-10T17:02:14.668742",
     "status": "completed"
    },
    "tags": []
   },
   "outputs": [
    {
     "data": {
      "text/plain": [
       "array([[  474,   496,   270, ...,     0,     0,     0],\n",
       "       [ 1229,  7527,   449, ...,   136,   609,   471],\n",
       "       [ 1958,    21,  1838, ...,    21,     8,    24],\n",
       "       ...,\n",
       "       [  530, 15713,  8914, ...,     0,     0,     0],\n",
       "       [ 2020,   182,  9220, ...,     0,     0,     0],\n",
       "       [ 1631,     1,   575, ...,     0,     0,     0]], dtype=int32)"
      ]
     },
     "execution_count": 19,
     "metadata": {},
     "output_type": "execute_result"
    }
   ],
   "source": [
    "padded_docs"
   ]
  },
  {
   "cell_type": "code",
   "execution_count": 20,
   "id": "2ff57ae5",
   "metadata": {
    "execution": {
     "iopub.execute_input": "2023-04-10T17:02:14.716870Z",
     "iopub.status.busy": "2023-04-10T17:02:14.716071Z",
     "iopub.status.idle": "2023-04-10T17:02:14.721877Z",
     "shell.execute_reply": "2023-04-10T17:02:14.720571Z"
    },
    "papermill": {
     "duration": 0.020508,
     "end_time": "2023-04-10T17:02:14.724056",
     "exception": false,
     "start_time": "2023-04-10T17:02:14.703548",
     "status": "completed"
    },
    "tags": []
   },
   "outputs": [
    {
     "name": "stdout",
     "output_type": "stream",
     "text": [
      "[315, 173, 917, 2044, 54, 622, 17, 47, 1056, 698, 314, 62, 418, 40, 1229, 7527, 449, 841, 5417, 243, 3672, 144, 3021, 850, 47, 230, 54, 161, 412, 139, 2080, 804, 6051, 412, 9874, 584, 640, 54, 762, 418, 1229, 380, 3672, 144, 161, 412, 139, 2080, 5417, 2355, 324, 453, 25, 6937, 286, 149, 74, 149, 608, 5136, 68, 126, 197, 17, 94, 165, 18, 365, 1015, 126, 197, 17, 94, 32, 18, 615, 3002, 49, 1, 1, 2574, 4575, 49, 1, 1, 518, 69, 876, 5136, 68, 68, 427, 2904, 5, 4, 4, 149, 608, 5136, 68, 68, 20, 448, 69, 1281, 5, 68, 68, 383, 1589, 5, 68, 68, 389, 2177, 646, 4, 4, 10, 315, 173, 917, 2044, 54, 622, 17, 47, 1056, 41, 379, 1199, 1230, 63, 47, 54, 645, 161, 2080, 324, 6149, 357, 2590, 161, 906, 54, 8070, 63, 243, 324, 350, 1106, 8, 54, 324, 16, 2072, 9, 1230, 117, 63, 161, 136, 609, 471]\n"
     ]
    }
   ],
   "source": [
    "print(encoded_docs[1])"
   ]
  },
  {
   "cell_type": "code",
   "execution_count": 21,
   "id": "f2fcd410",
   "metadata": {
    "execution": {
     "iopub.execute_input": "2023-04-10T17:02:14.748171Z",
     "iopub.status.busy": "2023-04-10T17:02:14.747883Z",
     "iopub.status.idle": "2023-04-10T17:02:14.763788Z",
     "shell.execute_reply": "2023-04-10T17:02:14.762199Z"
    },
    "papermill": {
     "duration": 0.030585,
     "end_time": "2023-04-10T17:02:14.765965",
     "exception": false,
     "start_time": "2023-04-10T17:02:14.735380",
     "status": "completed"
    },
    "tags": []
   },
   "outputs": [
    {
     "name": "stdout",
     "output_type": "stream",
     "text": [
      "shape of X train: (10868, 150)\n",
      " Shape of X test : (2718, 150)\n",
      " Shape of y train : (10868, 20)\n",
      " shape of y tesr : (2718, 20)\n"
     ]
    }
   ],
   "source": [
    "# split the dataset into train and test dataset\n",
    "X_train,X_test,y_train,y_test = train_test_split(padded_docs,y,test_size=0.2,random_state=42)\n",
    "print(f\"shape of X train: {X_train.shape}\\n Shape of X test : {X_test.shape}\\\n",
    "\\n Shape of y train : {y_train.shape}\\n shape of y tesr : {y_test.shape}\")"
   ]
  },
  {
   "cell_type": "code",
   "execution_count": 22,
   "id": "d68bee59",
   "metadata": {
    "execution": {
     "iopub.execute_input": "2023-04-10T17:02:14.791237Z",
     "iopub.status.busy": "2023-04-10T17:02:14.790382Z",
     "iopub.status.idle": "2023-04-10T17:02:14.797703Z",
     "shell.execute_reply": "2023-04-10T17:02:14.796497Z"
    },
    "papermill": {
     "duration": 0.022462,
     "end_time": "2023-04-10T17:02:14.800103",
     "exception": false,
     "start_time": "2023-04-10T17:02:14.777641",
     "status": "completed"
    },
    "tags": []
   },
   "outputs": [
    {
     "data": {
      "text/plain": [
       "array([[  530,   675,    24, ...,     0,     0,     0],\n",
       "       [   37,  2873,  2234, ...,  1167,     1,  1215],\n",
       "       [  116,   128,   717, ...,     0,     0,     0],\n",
       "       ...,\n",
       "       [11804, 11805,   337, ...,     0,     0,     0],\n",
       "       [  179,    88,   319, ...,     0,     0,     0],\n",
       "       [  989,   981,     1, ...,     0,     0,     0]], dtype=int32)"
      ]
     },
     "execution_count": 22,
     "metadata": {},
     "output_type": "execute_result"
    }
   ],
   "source": [
    "X_train"
   ]
  },
  {
   "cell_type": "markdown",
   "id": "57ae81af",
   "metadata": {
    "papermill": {
     "duration": 0.012114,
     "end_time": "2023-04-10T17:02:14.824660",
     "exception": false,
     "start_time": "2023-04-10T17:02:14.812546",
     "status": "completed"
    },
    "tags": []
   },
   "source": [
    "### dataset has been prepared, now we will create the Embedding with training data"
   ]
  },
  {
   "cell_type": "code",
   "execution_count": 23,
   "id": "7eb54c6d",
   "metadata": {
    "execution": {
     "iopub.execute_input": "2023-04-10T17:02:14.850885Z",
     "iopub.status.busy": "2023-04-10T17:02:14.850509Z",
     "iopub.status.idle": "2023-04-10T17:02:18.910049Z",
     "shell.execute_reply": "2023-04-10T17:02:18.908994Z"
    },
    "papermill": {
     "duration": 4.075748,
     "end_time": "2023-04-10T17:02:18.912637",
     "exception": false,
     "start_time": "2023-04-10T17:02:14.836889",
     "status": "completed"
    },
    "tags": []
   },
   "outputs": [],
   "source": [
    "\n",
    "model1 = Sequential()\n",
    "\n",
    "model1.add(Embedding(vocab_size,300,input_length=max_seq_len))\n",
    "model1.add(LSTM(100,dropout=0.25))\n",
    "model1.add(Flatten())\n",
    "model1.add(Dense(no_of_categories,activation='softmax'))"
   ]
  },
  {
   "cell_type": "markdown",
   "id": "b0b1c669",
   "metadata": {
    "papermill": {
     "duration": 0.011469,
     "end_time": "2023-04-10T17:02:18.936105",
     "exception": false,
     "start_time": "2023-04-10T17:02:18.924636",
     "status": "completed"
    },
    "tags": []
   },
   "source": [
    "### compile the model "
   ]
  },
  {
   "cell_type": "code",
   "execution_count": 24,
   "id": "17cc70a2",
   "metadata": {
    "execution": {
     "iopub.execute_input": "2023-04-10T17:02:18.961906Z",
     "iopub.status.busy": "2023-04-10T17:02:18.960903Z",
     "iopub.status.idle": "2023-04-10T17:02:18.995204Z",
     "shell.execute_reply": "2023-04-10T17:02:18.994217Z"
    },
    "papermill": {
     "duration": 0.065053,
     "end_time": "2023-04-10T17:02:19.012893",
     "exception": false,
     "start_time": "2023-04-10T17:02:18.947840",
     "status": "completed"
    },
    "tags": []
   },
   "outputs": [
    {
     "name": "stdout",
     "output_type": "stream",
     "text": [
      "Model: \"sequential\"\n",
      "_________________________________________________________________\n",
      " Layer (type)                Output Shape              Param #   \n",
      "=================================================================\n",
      " embedding (Embedding)       (None, 150, 300)          17877600  \n",
      "                                                                 \n",
      " lstm (LSTM)                 (None, 100)               160400    \n",
      "                                                                 \n",
      " flatten (Flatten)           (None, 100)               0         \n",
      "                                                                 \n",
      " dense (Dense)               (None, 20)                2020      \n",
      "                                                                 \n",
      "=================================================================\n",
      "Total params: 18,040,020\n",
      "Trainable params: 18,040,020\n",
      "Non-trainable params: 0\n",
      "_________________________________________________________________\n"
     ]
    }
   ],
   "source": [
    "model1.compile(loss='categorical_crossentropy', optimizer='adam',metrics=['accuracy'])\n",
    "model1.summary()"
   ]
  },
  {
   "cell_type": "code",
   "execution_count": 25,
   "id": "0f1d14c3",
   "metadata": {
    "execution": {
     "iopub.execute_input": "2023-04-10T17:02:19.039051Z",
     "iopub.status.busy": "2023-04-10T17:02:19.038691Z",
     "iopub.status.idle": "2023-04-10T17:02:19.044208Z",
     "shell.execute_reply": "2023-04-10T17:02:19.043041Z"
    },
    "papermill": {
     "duration": 0.021209,
     "end_time": "2023-04-10T17:02:19.046371",
     "exception": false,
     "start_time": "2023-04-10T17:02:19.025162",
     "status": "completed"
    },
    "tags": []
   },
   "outputs": [],
   "source": [
    "# apply modelcheckpoint and earlystopping in the model  when fitted the model\n",
    "checkpoint = ModelCheckpoint(\"/kaggle/working/\",monitor='val_loss',save_best_only=True,mode='min',verbose=0)\n",
    "earlystopping= EarlyStopping(monitor=\"val_loss\",patience=4,restore_best_weights=True,verbose=1)"
   ]
  },
  {
   "cell_type": "markdown",
   "id": "2344c20a",
   "metadata": {
    "papermill": {
     "duration": 0.013004,
     "end_time": "2023-04-10T17:02:19.072234",
     "exception": false,
     "start_time": "2023-04-10T17:02:19.059230",
     "status": "completed"
    },
    "tags": []
   },
   "source": [
    "### Fit the model "
   ]
  },
  {
   "cell_type": "code",
   "execution_count": 26,
   "id": "a92423f2",
   "metadata": {
    "execution": {
     "iopub.execute_input": "2023-04-10T17:02:19.100143Z",
     "iopub.status.busy": "2023-04-10T17:02:19.099327Z",
     "iopub.status.idle": "2023-04-10T17:06:50.083332Z",
     "shell.execute_reply": "2023-04-10T17:06:50.082185Z"
    },
    "papermill": {
     "duration": 271.000078,
     "end_time": "2023-04-10T17:06:50.085661",
     "exception": false,
     "start_time": "2023-04-10T17:02:19.085583",
     "status": "completed"
    },
    "tags": []
   },
   "outputs": [
    {
     "name": "stdout",
     "output_type": "stream",
     "text": [
      "Epoch 1/50\n",
      "306/306 [==============================] - 60s 170ms/step - loss: 2.8483 - accuracy: 0.1307 - val_loss: 2.7695 - val_accuracy: 0.1389\n",
      "Epoch 2/50\n",
      "306/306 [==============================] - 31s 103ms/step - loss: 2.5959 - accuracy: 0.2084 - val_loss: 2.6555 - val_accuracy: 0.1831\n",
      "Epoch 3/50\n",
      "306/306 [==============================] - 24s 77ms/step - loss: 2.4286 - accuracy: 0.2585 - val_loss: 2.5420 - val_accuracy: 0.2208\n",
      "Epoch 4/50\n",
      "306/306 [==============================] - 13s 41ms/step - loss: 2.4523 - accuracy: 0.2665 - val_loss: 2.7010 - val_accuracy: 0.1996\n",
      "Epoch 5/50\n",
      "306/306 [==============================] - 13s 43ms/step - loss: 2.3787 - accuracy: 0.2815 - val_loss: 2.5466 - val_accuracy: 0.2649\n",
      "Epoch 6/50\n",
      "306/306 [==============================] - 12s 40ms/step - loss: 2.1796 - accuracy: 0.3416 - val_loss: 2.3546 - val_accuracy: 0.3082\n",
      "Epoch 7/50\n",
      "306/306 [==============================] - 13s 41ms/step - loss: 1.9027 - accuracy: 0.3894 - val_loss: 2.0936 - val_accuracy: 0.3137\n",
      "Epoch 8/50\n",
      "306/306 [==============================] - 12s 38ms/step - loss: 1.7750 - accuracy: 0.4083 - val_loss: 1.9858 - val_accuracy: 0.3882\n",
      "Epoch 9/50\n",
      "306/306 [==============================] - 7s 24ms/step - loss: 1.6924 - accuracy: 0.4445 - val_loss: 1.9969 - val_accuracy: 0.3606\n",
      "Epoch 10/50\n",
      "306/306 [==============================] - 10s 33ms/step - loss: 1.4241 - accuracy: 0.5171 - val_loss: 1.7478 - val_accuracy: 0.4351\n",
      "Epoch 11/50\n",
      "306/306 [==============================] - 12s 39ms/step - loss: 1.2344 - accuracy: 0.5799 - val_loss: 1.6344 - val_accuracy: 0.4894\n",
      "Epoch 12/50\n",
      "306/306 [==============================] - 11s 34ms/step - loss: 1.1182 - accuracy: 0.6415 - val_loss: 1.5452 - val_accuracy: 0.5741\n",
      "Epoch 13/50\n",
      "306/306 [==============================] - 11s 37ms/step - loss: 0.9069 - accuracy: 0.7167 - val_loss: 1.3602 - val_accuracy: 0.6366\n",
      "Epoch 14/50\n",
      "306/306 [==============================] - 6s 20ms/step - loss: 0.7513 - accuracy: 0.7722 - val_loss: 1.4227 - val_accuracy: 0.6357\n",
      "Epoch 15/50\n",
      "306/306 [==============================] - 6s 19ms/step - loss: 0.5797 - accuracy: 0.8161 - val_loss: 1.3841 - val_accuracy: 0.6449\n",
      "Epoch 16/50\n",
      "306/306 [==============================] - 9s 31ms/step - loss: 0.4390 - accuracy: 0.8498 - val_loss: 1.3543 - val_accuracy: 0.6633\n",
      "Epoch 17/50\n",
      "306/306 [==============================] - 5s 17ms/step - loss: 0.3468 - accuracy: 0.8771 - val_loss: 1.3817 - val_accuracy: 0.6872\n",
      "Epoch 18/50\n",
      "306/306 [==============================] - 5s 16ms/step - loss: 0.3175 - accuracy: 0.8924 - val_loss: 1.4170 - val_accuracy: 0.6734\n",
      "Epoch 19/50\n",
      "306/306 [==============================] - 5s 16ms/step - loss: 0.2593 - accuracy: 0.9151 - val_loss: 1.4491 - val_accuracy: 0.6946\n",
      "Epoch 20/50\n",
      "306/306 [==============================] - ETA: 0s - loss: 0.2232 - accuracy: 0.9278Restoring model weights from the end of the best epoch: 16.\n",
      "306/306 [==============================] - 6s 19ms/step - loss: 0.2232 - accuracy: 0.9278 - val_loss: 1.4518 - val_accuracy: 0.6946\n",
      "Epoch 20: early stopping\n"
     ]
    }
   ],
   "source": [
    "history1 = model1.fit(X_train,y_train,epochs=50,verbose=1,validation_split=0.1,callbacks=[checkpoint,earlystopping])"
   ]
  },
  {
   "cell_type": "markdown",
   "id": "c59ae451",
   "metadata": {
    "papermill": {
     "duration": 0.115846,
     "end_time": "2023-04-10T17:06:50.319927",
     "exception": false,
     "start_time": "2023-04-10T17:06:50.204081",
     "status": "completed"
    },
    "tags": []
   },
   "source": [
    "### saved the learned model\n"
   ]
  },
  {
   "cell_type": "code",
   "execution_count": 27,
   "id": "86cf9e54",
   "metadata": {
    "execution": {
     "iopub.execute_input": "2023-04-10T17:06:50.551916Z",
     "iopub.status.busy": "2023-04-10T17:06:50.550555Z",
     "iopub.status.idle": "2023-04-10T17:06:50.873165Z",
     "shell.execute_reply": "2023-04-10T17:06:50.872083Z"
    },
    "papermill": {
     "duration": 0.441291,
     "end_time": "2023-04-10T17:06:50.875965",
     "exception": false,
     "start_time": "2023-04-10T17:06:50.434674",
     "status": "completed"
    },
    "tags": []
   },
   "outputs": [],
   "source": [
    "save_model(model1,\"model_lstm.h5\")\n",
    "# own_embedding = model1.get_layer(\"embedding\").get_weights()[0]\n",
    "# own_w2v= {}\n",
    "# for word,index in tokenize_text.word_index.items():\n",
    "#     own_w2v[word] =own_embedding[index]\n",
    "    "
   ]
  },
  {
   "cell_type": "code",
   "execution_count": 28,
   "id": "077b5dbe",
   "metadata": {
    "execution": {
     "iopub.execute_input": "2023-04-10T17:06:51.170981Z",
     "iopub.status.busy": "2023-04-10T17:06:51.170583Z",
     "iopub.status.idle": "2023-04-10T17:07:43.876151Z",
     "shell.execute_reply": "2023-04-10T17:07:43.875090Z"
    },
    "papermill": {
     "duration": 52.826833,
     "end_time": "2023-04-10T17:07:43.879020",
     "exception": false,
     "start_time": "2023-04-10T17:06:51.052187",
     "status": "completed"
    },
    "tags": []
   },
   "outputs": [],
   "source": [
    "# load the model\n",
    "model12 = load_model(\"/kaggle/working/model_lstm.h5\")"
   ]
  },
  {
   "cell_type": "markdown",
   "id": "ae94a21c",
   "metadata": {
    "papermill": {
     "duration": 0.136232,
     "end_time": "2023-04-10T17:07:44.132561",
     "exception": false,
     "start_time": "2023-04-10T17:07:43.996329",
     "status": "completed"
    },
    "tags": []
   },
   "source": [
    "\n",
    "### evaluate the model on the test set "
   ]
  },
  {
   "cell_type": "code",
   "execution_count": 29,
   "id": "b0fe1fa0",
   "metadata": {
    "execution": {
     "iopub.execute_input": "2023-04-10T17:07:44.448606Z",
     "iopub.status.busy": "2023-04-10T17:07:44.448139Z",
     "iopub.status.idle": "2023-04-10T17:07:46.353945Z",
     "shell.execute_reply": "2023-04-10T17:07:46.352459Z"
    },
    "papermill": {
     "duration": 2.083788,
     "end_time": "2023-04-10T17:07:46.356213",
     "exception": false,
     "start_time": "2023-04-10T17:07:44.272425",
     "status": "completed"
    },
    "tags": []
   },
   "outputs": [
    {
     "name": "stdout",
     "output_type": "stream",
     "text": [
      "85/85 [==============================] - 1s 8ms/step - loss: 1.3053 - accuracy: 0.6534\n",
      "Test Set: \n",
      " Loss: 1.305\n",
      " Accuracy: 0.653\n"
     ]
    }
   ],
   "source": [
    "\n",
    "accr = model12.evaluate(X_test, y_test)\n",
    "print(\"Test Set: \\n Loss: {:0.3f}\\n Accuracy: {:0.3f}\".format(accr[0], accr[1]))"
   ]
  },
  {
   "cell_type": "markdown",
   "id": "520fe4d2",
   "metadata": {
    "papermill": {
     "duration": 0.114995,
     "end_time": "2023-04-10T17:07:46.586457",
     "exception": false,
     "start_time": "2023-04-10T17:07:46.471462",
     "status": "completed"
    },
    "tags": []
   },
   "source": [
    "### plot the loss"
   ]
  },
  {
   "cell_type": "code",
   "execution_count": 30,
   "id": "1244b091",
   "metadata": {
    "execution": {
     "iopub.execute_input": "2023-04-10T17:07:46.820634Z",
     "iopub.status.busy": "2023-04-10T17:07:46.819653Z",
     "iopub.status.idle": "2023-04-10T17:07:47.075373Z",
     "shell.execute_reply": "2023-04-10T17:07:47.074390Z"
    },
    "papermill": {
     "duration": 0.376454,
     "end_time": "2023-04-10T17:07:47.077898",
     "exception": false,
     "start_time": "2023-04-10T17:07:46.701444",
     "status": "completed"
    },
    "tags": []
   },
   "outputs": [
    {
     "data": {
      "image/png": "[encoded data removed]",
      "text/plain": [
       "<Figure size 640x480 with 1 Axes>"
      ]
     },
     "metadata": {},
     "output_type": "display_data"
    }
   ],
   "source": [
    "plt.title(\"Loss\")\n",
    "plt.plot(history1.history['loss'], label='train')\n",
    "plt.plot(history1.history['val_loss'], label='validation')\n",
    "plt.xlabel(\"Epochs\")\n",
    "plt.ylabel(\"Losses\")\n",
    "plt.legend()\n",
    "plt.show()"
   ]
  },
  {
   "cell_type": "markdown",
   "id": "887ad68c",
   "metadata": {
    "execution": {
     "iopub.execute_input": "2023-04-01T09:33:11.172053Z",
     "iopub.status.busy": "2023-04-01T09:33:11.171604Z",
     "iopub.status.idle": "2023-04-01T09:33:11.202321Z",
     "shell.execute_reply": "2023-04-01T09:33:11.201194Z",
     "shell.execute_reply.started": "2023-04-01T09:33:11.172012Z"
    },
    "papermill": {
     "duration": 0.117913,
     "end_time": "2023-04-10T17:07:47.322619",
     "exception": false,
     "start_time": "2023-04-10T17:07:47.204706",
     "status": "completed"
    },
    "tags": []
   },
   "source": [
    "### plot the accuracy"
   ]
  },
  {
   "cell_type": "code",
   "execution_count": 31,
   "id": "764da037",
   "metadata": {
    "execution": {
     "iopub.execute_input": "2023-04-10T17:07:47.555805Z",
     "iopub.status.busy": "2023-04-10T17:07:47.555133Z",
     "iopub.status.idle": "2023-04-10T17:07:47.804970Z",
     "shell.execute_reply": "2023-04-10T17:07:47.803957Z"
    },
    "papermill": {
     "duration": 0.369086,
     "end_time": "2023-04-10T17:07:47.807117",
     "exception": false,
     "start_time": "2023-04-10T17:07:47.438031",
     "status": "completed"
    },
    "tags": []
   },
   "outputs": [
    {
     "data": {
      "image/png": "[encoded data removed]",
      "text/plain": [
       "<Figure size 640x480 with 1 Axes>"
      ]
     },
     "metadata": {},
     "output_type": "display_data"
    }
   ],
   "source": [
    "plt.title(\"Loss\")\n",
    "plt.plot(history1.history['accuracy'], label='train')\n",
    "plt.plot(history1.history['val_accuracy'], label='validation')\n",
    "plt.xlabel(\"Epochs\")\n",
    "plt.ylabel(\"Accuracy\")\n",
    "plt.legend()\n",
    "plt.show()"
   ]
  },
  {
   "cell_type": "markdown",
   "id": "14bd85ad",
   "metadata": {
    "papermill": {
     "duration": 0.120258,
     "end_time": "2023-04-10T17:07:48.046113",
     "exception": false,
     "start_time": "2023-04-10T17:07:47.925855",
     "status": "completed"
    },
    "tags": []
   },
   "source": [
    "### Embedding with Gated Recurrent Units"
   ]
  },
  {
   "cell_type": "code",
   "execution_count": 32,
   "id": "11f1eddd",
   "metadata": {
    "execution": {
     "iopub.execute_input": "2023-04-10T17:07:48.324587Z",
     "iopub.status.busy": "2023-04-10T17:07:48.324194Z",
     "iopub.status.idle": "2023-04-10T17:07:48.330966Z",
     "shell.execute_reply": "2023-04-10T17:07:48.329858Z"
    },
    "papermill": {
     "duration": 0.169433,
     "end_time": "2023-04-10T17:07:48.333239",
     "exception": false,
     "start_time": "2023-04-10T17:07:48.163806",
     "status": "completed"
    },
    "tags": []
   },
   "outputs": [],
   "source": [
    "# apply modelcheckpoint and earlystopping in the model  when fitted the model\n",
    "checkpoint = ModelCheckpoint(\"/kaggle/working/\",monitor='val_loss',save_best_only=True,mode='min',verbose=0)\n",
    "earlystopping= EarlyStopping(monitor=\"val_loss\",patience=4,restore_best_weights=True,verbose=1)"
   ]
  },
  {
   "cell_type": "code",
   "execution_count": 33,
   "id": "53f1cd3a",
   "metadata": {
    "execution": {
     "iopub.execute_input": "2023-04-10T17:07:48.568712Z",
     "iopub.status.busy": "2023-04-10T17:07:48.567514Z",
     "iopub.status.idle": "2023-04-10T17:07:48.802252Z",
     "shell.execute_reply": "2023-04-10T17:07:48.801229Z"
    },
    "papermill": {
     "duration": 0.35449,
     "end_time": "2023-04-10T17:07:48.804731",
     "exception": false,
     "start_time": "2023-04-10T17:07:48.450241",
     "status": "completed"
    },
    "tags": []
   },
   "outputs": [],
   "source": [
    "model2 = Sequential()\n",
    "model2.add(Embedding(vocab_size,300,input_length=max_seq_len))\n",
    "model2.add(SpatialDropout1D(0.2))\n",
    "model2.add(GRU(128, return_sequences = False))\n",
    "model2.add(Flatten())\n",
    "model2.add(Dense(no_of_categories,activation='softmax'))"
   ]
  },
  {
   "cell_type": "markdown",
   "id": "4e1bdd8d",
   "metadata": {
    "papermill": {
     "duration": 0.116194,
     "end_time": "2023-04-10T17:07:49.038140",
     "exception": false,
     "start_time": "2023-04-10T17:07:48.921946",
     "status": "completed"
    },
    "tags": []
   },
   "source": [
    "### compile the model"
   ]
  },
  {
   "cell_type": "code",
   "execution_count": 34,
   "id": "d9c3c0ad",
   "metadata": {
    "execution": {
     "iopub.execute_input": "2023-04-10T17:07:49.273608Z",
     "iopub.status.busy": "2023-04-10T17:07:49.273250Z",
     "iopub.status.idle": "2023-04-10T17:07:49.305592Z",
     "shell.execute_reply": "2023-04-10T17:07:49.304803Z"
    },
    "papermill": {
     "duration": 0.158823,
     "end_time": "2023-04-10T17:07:49.314747",
     "exception": false,
     "start_time": "2023-04-10T17:07:49.155924",
     "status": "completed"
    },
    "tags": []
   },
   "outputs": [
    {
     "name": "stdout",
     "output_type": "stream",
     "text": [
      "Model: \"sequential_1\"\n",
      "_________________________________________________________________\n",
      " Layer (type)                Output Shape              Param #   \n",
      "=================================================================\n",
      " embedding_1 (Embedding)     (None, 150, 300)          17877600  \n",
      "                                                                 \n",
      " spatial_dropout1d (SpatialD  (None, 150, 300)         0         \n",
      " ropout1D)                                                       \n",
      "                                                                 \n",
      " gru (GRU)                   (None, 128)               165120    \n",
      "                                                                 \n",
      " flatten_1 (Flatten)         (None, 128)               0         \n",
      "                                                                 \n",
      " dense_1 (Dense)             (None, 20)                2580      \n",
      "                                                                 \n",
      "=================================================================\n",
      "Total params: 18,045,300\n",
      "Trainable params: 18,045,300\n",
      "Non-trainable params: 0\n",
      "_________________________________________________________________\n"
     ]
    }
   ],
   "source": [
    "model2.compile(loss='categorical_crossentropy', optimizer='adam',metrics=['accuracy'])\n",
    "model2.summary()"
   ]
  },
  {
   "cell_type": "markdown",
   "id": "4dc83c7a",
   "metadata": {
    "papermill": {
     "duration": 0.124861,
     "end_time": "2023-04-10T17:07:49.558957",
     "exception": false,
     "start_time": "2023-04-10T17:07:49.434096",
     "status": "completed"
    },
    "tags": []
   },
   "source": [
    "### fit the model"
   ]
  },
  {
   "cell_type": "code",
   "execution_count": 35,
   "id": "9f6effd2",
   "metadata": {
    "execution": {
     "iopub.execute_input": "2023-04-10T17:07:49.795597Z",
     "iopub.status.busy": "2023-04-10T17:07:49.795243Z",
     "iopub.status.idle": "2023-04-10T17:09:55.332735Z",
     "shell.execute_reply": "2023-04-10T17:09:55.331743Z"
    },
    "papermill": {
     "duration": 125.658095,
     "end_time": "2023-04-10T17:09:55.334903",
     "exception": false,
     "start_time": "2023-04-10T17:07:49.676808",
     "status": "completed"
    },
    "tags": []
   },
   "outputs": [
    {
     "name": "stdout",
     "output_type": "stream",
     "text": [
      "Epoch 1/10\n",
      "306/306 [==============================] - 36s 110ms/step - loss: 2.8402 - accuracy: 0.1284 - val_loss: 2.7113 - val_accuracy: 0.1555\n",
      "Epoch 2/10\n",
      "306/306 [==============================] - 21s 67ms/step - loss: 2.3278 - accuracy: 0.2832 - val_loss: 2.0431 - val_accuracy: 0.3855\n",
      "Epoch 3/10\n",
      "306/306 [==============================] - 16s 51ms/step - loss: 1.3209 - accuracy: 0.5960 - val_loss: 1.1840 - val_accuracy: 0.6477\n",
      "Epoch 4/10\n",
      "306/306 [==============================] - 15s 49ms/step - loss: 0.6306 - accuracy: 0.8102 - val_loss: 1.0006 - val_accuracy: 0.7148\n",
      "Epoch 5/10\n",
      "306/306 [==============================] - 12s 39ms/step - loss: 0.3455 - accuracy: 0.8952 - val_loss: 0.9011 - val_accuracy: 0.7470\n",
      "Epoch 6/10\n",
      "306/306 [==============================] - 8s 25ms/step - loss: 0.2090 - accuracy: 0.9353 - val_loss: 0.9050 - val_accuracy: 0.7718\n",
      "Epoch 7/10\n",
      "306/306 [==============================] - 7s 21ms/step - loss: 0.1563 - accuracy: 0.9511 - val_loss: 0.9652 - val_accuracy: 0.7544\n",
      "Epoch 8/10\n",
      "306/306 [==============================] - 6s 18ms/step - loss: 0.1261 - accuracy: 0.9558 - val_loss: 0.9934 - val_accuracy: 0.7728\n",
      "Epoch 9/10\n",
      "306/306 [==============================] - ETA: 0s - loss: 0.1096 - accuracy: 0.9602Restoring model weights from the end of the best epoch: 5.\n",
      "306/306 [==============================] - 6s 20ms/step - loss: 0.1096 - accuracy: 0.9602 - val_loss: 1.0176 - val_accuracy: 0.7525\n",
      "Epoch 9: early stopping\n"
     ]
    }
   ],
   "source": [
    "history2 = model2.fit(X_train,y_train,epochs=10,verbose=1,validation_split=0.1,callbacks=[checkpoint,earlystopping])"
   ]
  },
  {
   "cell_type": "code",
   "execution_count": 36,
   "id": "cbb23b2c",
   "metadata": {
    "execution": {
     "iopub.execute_input": "2023-04-10T17:09:55.683011Z",
     "iopub.status.busy": "2023-04-10T17:09:55.681951Z",
     "iopub.status.idle": "2023-04-10T17:09:56.102430Z",
     "shell.execute_reply": "2023-04-10T17:09:56.101332Z"
    },
    "papermill": {
     "duration": 0.597546,
     "end_time": "2023-04-10T17:09:56.105240",
     "exception": false,
     "start_time": "2023-04-10T17:09:55.507694",
     "status": "completed"
    },
    "tags": []
   },
   "outputs": [],
   "source": [
    "# saved the GRU mode\n",
    "save_model(model2,\"Model_GRU.h5\")"
   ]
  },
  {
   "cell_type": "code",
   "execution_count": 37,
   "id": "5e0e09e2",
   "metadata": {
    "execution": {
     "iopub.execute_input": "2023-04-10T17:09:56.465860Z",
     "iopub.status.busy": "2023-04-10T17:09:56.465442Z",
     "iopub.status.idle": "2023-04-10T17:10:14.359918Z",
     "shell.execute_reply": "2023-04-10T17:10:14.358818Z"
    },
    "papermill": {
     "duration": 18.081974,
     "end_time": "2023-04-10T17:10:14.362856",
     "exception": false,
     "start_time": "2023-04-10T17:09:56.280882",
     "status": "completed"
    },
    "tags": []
   },
   "outputs": [],
   "source": [
    "# load the model\n",
    "model21 = load_model(\"/kaggle/working/Model_GRU.h5\")"
   ]
  },
  {
   "cell_type": "markdown",
   "id": "d29c6f33",
   "metadata": {
    "papermill": {
     "duration": 0.199765,
     "end_time": "2023-04-10T17:10:14.740710",
     "exception": false,
     "start_time": "2023-04-10T17:10:14.540945",
     "status": "completed"
    },
    "tags": []
   },
   "source": [
    "### Evaluate the model"
   ]
  },
  {
   "cell_type": "code",
   "execution_count": 38,
   "id": "62a1d0e5",
   "metadata": {
    "execution": {
     "iopub.execute_input": "2023-04-10T17:10:15.157461Z",
     "iopub.status.busy": "2023-04-10T17:10:15.156749Z",
     "iopub.status.idle": "2023-04-10T17:10:16.188545Z",
     "shell.execute_reply": "2023-04-10T17:10:16.187441Z"
    },
    "papermill": {
     "duration": 1.210841,
     "end_time": "2023-04-10T17:10:16.191141",
     "exception": false,
     "start_time": "2023-04-10T17:10:14.980300",
     "status": "completed"
    },
    "tags": []
   },
   "outputs": [
    {
     "name": "stdout",
     "output_type": "stream",
     "text": [
      "85/85 [==============================] - 1s 7ms/step - loss: 0.9526 - accuracy: 0.7369\n",
      "Test Set: \n",
      " Loss: 0.953\n",
      " Accuracy: 0.737\n"
     ]
    }
   ],
   "source": [
    "\n",
    "accr2 = model21.evaluate(X_test, y_test)\n",
    "print(\"Test Set: \\n Loss: {:0.3f}\\n Accuracy: {:0.3f}\".format(accr2[0], accr2[1]))"
   ]
  },
  {
   "cell_type": "markdown",
   "id": "c7073e40",
   "metadata": {
    "papermill": {
     "duration": 0.223389,
     "end_time": "2023-04-10T17:10:16.607562",
     "exception": false,
     "start_time": "2023-04-10T17:10:16.384173",
     "status": "completed"
    },
    "tags": []
   },
   "source": [
    "### plot the loss"
   ]
  },
  {
   "cell_type": "code",
   "execution_count": 39,
   "id": "adb3b9df",
   "metadata": {
    "execution": {
     "iopub.execute_input": "2023-04-10T17:10:16.963331Z",
     "iopub.status.busy": "2023-04-10T17:10:16.962317Z",
     "iopub.status.idle": "2023-04-10T17:10:17.186784Z",
     "shell.execute_reply": "2023-04-10T17:10:17.185826Z"
    },
    "papermill": {
     "duration": 0.408719,
     "end_time": "2023-04-10T17:10:17.188987",
     "exception": false,
     "start_time": "2023-04-10T17:10:16.780268",
     "status": "completed"
    },
    "tags": []
   },
   "outputs": [
    {
     "data": {
      "image/png": "[encoded data removed]",
      "text/plain": [
       "<Figure size 640x480 with 1 Axes>"
      ]
     },
     "metadata": {},
     "output_type": "display_data"
    }
   ],
   "source": [
    "plt.title(\"Loss\")\n",
    "plt.plot(history2.history['loss'], label='train')\n",
    "plt.plot(history2.history['val_loss'], label='validation')\n",
    "plt.xlabel(\"Epochs\")\n",
    "plt.ylabel(\"Losses\")\n",
    "plt.legend()\n",
    "plt.show()"
   ]
  },
  {
   "cell_type": "markdown",
   "id": "0f9fc73b",
   "metadata": {
    "papermill": {
     "duration": 0.172018,
     "end_time": "2023-04-10T17:10:17.534976",
     "exception": false,
     "start_time": "2023-04-10T17:10:17.362958",
     "status": "completed"
    },
    "tags": []
   },
   "source": [
    "### plot the accuracy"
   ]
  },
  {
   "cell_type": "code",
   "execution_count": 40,
   "id": "23e1c94d",
   "metadata": {
    "execution": {
     "iopub.execute_input": "2023-04-10T17:10:17.891590Z",
     "iopub.status.busy": "2023-04-10T17:10:17.891194Z",
     "iopub.status.idle": "2023-04-10T17:10:18.129813Z",
     "shell.execute_reply": "2023-04-10T17:10:18.128726Z"
    },
    "papermill": {
     "duration": 0.417128,
     "end_time": "2023-04-10T17:10:18.132228",
     "exception": false,
     "start_time": "2023-04-10T17:10:17.715100",
     "status": "completed"
    },
    "tags": []
   },
   "outputs": [
    {
     "data": {
      "image/png": "[encoded data removed]",
      "text/plain": [
       "<Figure size 640x480 with 1 Axes>"
      ]
     },
     "metadata": {},
     "output_type": "display_data"
    }
   ],
   "source": [
    "plt.title(\"Loss\")\n",
    "plt.plot(history2.history['accuracy'], label='train')\n",
    "plt.plot(history2.history['val_accuracy'], label='validation')\n",
    "plt.xlabel(\"Epochs\")\n",
    "plt.ylabel(\"Accuracy\")\n",
    "plt.legend()\n",
    "plt.show()"
   ]
  },
  {
   "cell_type": "code",
   "execution_count": null,
   "id": "507205f1",
   "metadata": {
    "papermill": {
     "duration": 0.176751,
     "end_time": "2023-04-10T17:10:18.532203",
     "exception": false,
     "start_time": "2023-04-10T17:10:18.355452",
     "status": "completed"
    },
    "tags": []
   },
   "outputs": [],
   "source": []
  },
  {
   "cell_type": "code",
   "execution_count": null,
   "id": "63c18996",
   "metadata": {
    "papermill": {
     "duration": 0.173522,
     "end_time": "2023-04-10T17:10:18.883265",
     "exception": false,
     "start_time": "2023-04-10T17:10:18.709743",
     "status": "completed"
    },
    "tags": []
   },
   "outputs": [],
   "source": []
  }
 ],
 "metadata": {
  "kernelspec": {
   "display_name": "Python 3",
   "language": "python",
   "name": "python3"
  },
  "language_info": {
   "codemirror_mode": {
    "name": "ipython",
    "version": 3
   },
   "file_extension": ".py",
   "mimetype": "text/x-python",
   "name": "python",
   "nbconvert_exporter": "python",
   "pygments_lexer": "ipython3",
   "version": "3.7.12"
  },
  "papermill": {
   "default_parameters": {},
   "duration": 510.221232,
   "end_time": "2023-04-10T17:10:22.337592",
   "environment_variables": {},
   "exception": null,
   "input_path": "__notebook__.ipynb",
   "output_path": "__notebook__.ipynb",
   "parameters": {},
   "start_time": "2023-04-10T17:01:52.116360",
   "version": "2.4.0"
  }
 },
 "nbformat": 4,
 "nbformat_minor": 5
}
